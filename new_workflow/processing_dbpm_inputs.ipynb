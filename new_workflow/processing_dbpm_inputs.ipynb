{
 "cells": [
  {
   "cell_type": "markdown",
   "id": "837866b4-cce9-44f0-9caa-9df828d13b75",
   "metadata": {},
   "source": [
    "# Extracting inputs for Dynamic Benthic Pelagic Model (DBPM)\n",
    "**Author:** Denisse Fierro Arcos  \n",
    "**Date:** 2024-10-10  \n",
    "  \n",
    "We will run DBPM within the boundaries of the [Antarctic marine ecosystem (LME) region](https://celebrating200years.noaa.gov/breakthroughs/ecosystems/lme_map.jpg) as a case study. There are 66 LMEs around the world, which are defined as coastal areas that are characterised for their high productivity. Every year, 95\\% of all fish catches on the planet come from LMES.  \n",
    "  \n",
    "To force DBPM we will use outputs from GFDL-MOM6-COBALT2, which has been regridded to a horizontal resolution of 0.25$^{\\circ}$ (the original grid was 1$^{\\circ}$).  \n",
    "  \n",
    "DBPM requires the following inputs:  \n",
    "- depth  \n",
    "- small phytoplankton (`phypico-vint` or mole concentration of picoplankton expressed as carbon in sea water)  \n",
    "- large phytoplankton (`phyc-vint` - `phypico-vint`, where `phyc-vint`is the phytoplankton carbon concentration)  \n",
    "- sea surface temperature (`tos`)  \n",
    "- bottom ocean temperature (`tob`)  \n",
    "- detritus (`expc-bot` or downward flux of particulate organic carbon)  \n",
    "\n",
    "In this notebook, we describe how data was extracted from GFDL-MOM6-COBALT2 outputs to run DBPM within the Southern Ocean LME boundaries."
   ]
  },
  {
   "cell_type": "code",
   "execution_count": 8,
   "id": "caa6c99b-5f02-4986-93fe-744d03d50110",
   "metadata": {},
   "outputs": [],
   "source": [
    "import os\n",
    "os.chdir('/g/data/vf71/la6889/lme_scale_calibration_ISMIP3a/python_workflow')"
   ]
  },
  {
   "cell_type": "markdown",
   "id": "db4cbe27-6737-412a-9926-d3b8da7f6fc7",
   "metadata": {},
   "source": [
    "## Loading relevant libraries"
   ]
  },
  {
   "cell_type": "code",
   "execution_count": 9,
   "id": "bd4d9e37-6ae2-4ddc-a91b-9b1769645f38",
   "metadata": {},
   "outputs": [],
   "source": [
    "import xarray as xr\n",
    "import pandas as pd\n",
    "import numpy as np\n",
    "from glob import glob\n",
    "from dask.distributed import Client\n",
    "import useful_functions as uf"
   ]
  },
  {
   "cell_type": "markdown",
   "id": "7082b151-a0b3-4ca7-9330-0eb283244c44",
   "metadata": {},
   "source": [
    "## Start a cluster"
   ]
  },
  {
   "cell_type": "code",
   "execution_count": null,
   "id": "85b93bf5-48e2-4acc-9e9c-8c0d81217b9c",
   "metadata": {},
   "outputs": [],
   "source": [
    "client = Client(threads_per_worker = 1)\n",
    "client"
   ]
  },
  {
   "cell_type": "markdown",
   "id": "5aed6510-39e5-4a65-bf57-93a021a28877",
   "metadata": {},
   "source": [
    "## Load Antarctic LME boundaries\n",
    "Our mask includes all 66 LMEs and some FAO regions, but the value `147` identifies the Antartic LME."
   ]
  },
  {
   "cell_type": "code",
   "execution_count": 3,
   "id": "b8e08ddf-d05f-4894-ba3d-3e88fed324e7",
   "metadata": {},
   "outputs": [
    {
     "data": {
      "text/plain": [
       "<matplotlib.collections.QuadMesh at 0x1478fcbae170>"
      ]
     },
     "execution_count": 3,
     "metadata": {},
     "output_type": "execute_result"
    },
    {
     "data": {
      "image/png": "[encoded data removed]",
      "text/plain": [
       "<Figure size 640x480 with 2 Axes>"
      ]
     },
     "metadata": {},
     "output_type": "display_data"
    }
   ],
   "source": [
    "#Loading mask\n",
    "lmes_da = xr.open_dataset('/g/data/vf71/shared_resources/fao_lme_masks/gfdl-mom6-cobalt2_fao-major_lme_15arcmin_global.nc').id\n",
    "#Keeping only Antarctic LME to extract data\n",
    "lmes_da = xr.where(lmes_da == 147, 1, np.nan)\n",
    "#Rename dimensions to match GFDL outputs\n",
    "lmes_da = lmes_da.rename({'latitude': 'lat', 'longitude': 'lon'})\n",
    "lmes_da.plot()"
   ]
  },
  {
   "cell_type": "markdown",
   "id": "9320df82-c7c6-4534-a697-4c2a01bd9a64",
   "metadata": {},
   "source": [
    "## Load relevant GFDL-MOM6-COBALT2 outputs"
   ]
  },
  {
   "cell_type": "code",
   "execution_count": 3,
   "id": "827b2048-7f58-4947-85b7-a6bbf145905c",
   "metadata": {},
   "outputs": [],
   "source": [
    "#Base folder where GFDL outputs are stored - obsclim and ctrlclim\n",
    "gfdl_obsclim = '/g/data/vf71/fishmip_inputs/ISIMIP3a/global_inputs/obsclim/025deg'\n",
    "gfdl_ctrlclim = '/g/data/vf71/fishmip_inputs/ISIMIP3a/global_inputs/ctrlclim/025deg'\n",
    "#Variables of interest\n",
    "dbpm_var = ['deptho', 'expc-bot', 'phyc-vint', 'phypico-vint', 'tob', 'tos']\n",
    "#List of relevant files\n",
    "gfdl_obs_files = [glob(os.path.join(gfdl_obsclim, f'*_{var}_*'))[0] for var in dbpm_var]\n",
    "gfdl_ctrl_files = [glob(os.path.join(gfdl_ctrlclim, f'*_{var}_*'))[0] for var in dbpm_var]"
   ]
  },
  {
   "cell_type": "markdown",
   "id": "9a6b203d-abf6-4516-9167-7c0cd2bed563",
   "metadata": {},
   "source": [
    "## Define location of outputs"
   ]
  },
  {
   "cell_type": "code",
   "execution_count": 4,
   "id": "b086bf5c-4d26-4e7f-9467-da05588b0fac",
   "metadata": {},
   "outputs": [],
   "source": [
    "gfdl_out = '/g/data/vf71/la6889/dbpm_inputs/gridded'\n",
    "os.makedirs(gfdl_out, exist_ok = True)"
   ]
  },
  {
   "cell_type": "markdown",
   "id": "a705681c-e888-4ddc-88b6-c54dd4f045bb",
   "metadata": {},
   "source": [
    "## Extract data for region of interest"
   ]
  },
  {
   "cell_type": "code",
   "execution_count": null,
   "id": "d4d4090c-95ce-4c2a-929e-2ae0f9238d4e",
   "metadata": {},
   "outputs": [],
   "source": [
    "for f in gfdl_obs_files:\n",
    "    #Create file path to save outputs\n",
    "    f_out = os.path.basename(f).replace('global', 'lme-61').replace('.nc', '.zarr')\n",
    "    f_out = os.path.join(gfdl_out, f_out)\n",
    "    #Apply function\n",
    "    uf.extract_gfdl(f, lmes_da, f_out)"
   ]
  },
  {
   "cell_type": "code",
   "execution_count": 15,
   "id": "c28532f9-6589-4e01-a45f-570ca96cfc8e",
   "metadata": {},
   "outputs": [],
   "source": [
    "for f in gfdl_ctrl_files:\n",
    "    #Create file path to save outputs\n",
    "    f_out = os.path.basename(f).replace('global', 'lme-61').replace('.nc', '.zarr')\n",
    "    f_out = os.path.join(gfdl_out, f_out)\n",
    "    #Apply function\n",
    "    uf.extract_gfdl(f, lmes_da, f_out)"
   ]
  },
  {
   "cell_type": "markdown",
   "id": "24576059-9ddc-450f-8bce-a5c26dbc1854",
   "metadata": {},
   "source": [
    "## Extract area of grid cells for region of interest\n",
    "We also need the area of grid cells to calculate weighted means. Both `ctrlclim` and `obsclim` experiments share the same grid, so this step needs to be completed only once."
   ]
  },
  {
   "cell_type": "code",
   "execution_count": 7,
   "id": "e957ef42-1ff9-4fb6-8010-7b03963708ff",
   "metadata": {},
   "outputs": [],
   "source": [
    "area_path = '/g/data/vf71/shared_resources/grid_cell_area_ESMs/isimip3a/gfdl-mom6-cobalt2_areacello_15arcmin_global_fixed.nc'\n",
    "file_out = os.path.basename(area_path).replace('global', 'lme-61').replace('.nc', '.zarr')\n",
    "file_out = os.path.join(gfdl_out, file_out)\n",
    "uf.extract_gfdl(area_path, lmes_da, file_out)"
   ]
  },
  {
   "cell_type": "markdown",
   "id": "38fb24c8-5d3d-40bf-a996-6ecdbbbc936f",
   "metadata": {},
   "source": [
    "### Getting grid cell area values ready to be used as weights"
   ]
  },
  {
   "cell_type": "code",
   "execution_count": 5,
   "id": "161e7897-194c-4933-8bf0-39cc05483f00",
   "metadata": {},
   "outputs": [
    {
     "data": {
      "text/plain": [
       "<matplotlib.collections.QuadMesh at 0x151997d2e710>"
      ]
     },
     "execution_count": 5,
     "metadata": {},
     "output_type": "execute_result"
    },
    {
     "data": {
      "image/png": "[encoded data removed]",
      "text/plain": [
       "<Figure size 640x480 with 2 Axes>"
      ]
     },
     "metadata": {},
     "output_type": "display_data"
    }
   ],
   "source": [
    "#Load area of grid cell to be used as weights\n",
    "weights = xr.open_zarr(glob(os.path.join(gfdl_out, '*area*'))[0]).cellareao\n",
    "#Areas outside LME need to be given a value of 0\n",
    "weights = weights.fillna(0)\n",
    "#Check result\n",
    "weights.plot()"
   ]
  },
  {
   "cell_type": "markdown",
   "id": "b240168d-a714-4e8e-988f-2598a9bce449",
   "metadata": {},
   "source": [
    "## Get list of files with data for Antarctica"
   ]
  },
  {
   "cell_type": "code",
   "execution_count": 6,
   "id": "60dbcfad-712a-43f8-920e-da7bbf99286b",
   "metadata": {},
   "outputs": [],
   "source": [
    "#Get list of files to be processed\n",
    "gfdl_obs_files = [glob(os.path.join(gfdl_out, f'*obsclim_{var}_*'))[0] for var in dbpm_var if var != 'deptho']\n",
    "gfdl_ctrl_files = [glob(os.path.join(gfdl_out, f'*ctrlclim_{var}_*'))[0] for var in dbpm_var if var != 'deptho']\n",
    "gfdl_depth = glob(os.path.join(gfdl_out, '*deptho*'))"
   ]
  },
  {
   "cell_type": "markdown",
   "id": "1c4448ce-93ec-4a37-ab2d-db03f4649c36",
   "metadata": {},
   "source": [
    "### Define folder location for outputs"
   ]
  },
  {
   "cell_type": "code",
   "execution_count": 7,
   "id": "68ea8c53-a154-412e-b91f-77ae6d340102",
   "metadata": {},
   "outputs": [],
   "source": [
    "gfdl_out = '/g/data/vf71/la6889/dbpm_inputs/monthly_weighted_mean/'\n",
    "os.makedirs(gfdl_out, exist_ok = True)"
   ]
  },
  {
   "cell_type": "markdown",
   "id": "aeee61d4-a589-4e11-8831-2300863e19ee",
   "metadata": {},
   "source": [
    "## Calculate area-weighted mean per time step\n",
    "We will calculated weighted mean separately for `ctrlclim` and `obsclim` experiments."
   ]
  },
  {
   "cell_type": "code",
   "execution_count": 9,
   "id": "2c569537-af19-455d-9490-018f167230c2",
   "metadata": {},
   "outputs": [
    {
     "name": "stderr",
     "output_type": "stream",
     "text": [
      "/g/data/vf71/la6889/lme_scale_calibration_ISMIP3a/python_workflow/useful_functions.py:66: RuntimeWarning: Converting a CFTimeIndex with dates from a non-standard calendar, '360_day', to a pandas.DatetimeIndex, which uses dates from the standard calendar.  This may lead to subtle errors in operations that depend on the length of time between dates.\n",
      "  new_time = da_weighted_mean.indexes['time'].to_datetimeindex()\n",
      "/g/data/vf71/la6889/lme_scale_calibration_ISMIP3a/python_workflow/useful_functions.py:66: RuntimeWarning: Converting a CFTimeIndex with dates from a non-standard calendar, '360_day', to a pandas.DatetimeIndex, which uses dates from the standard calendar.  This may lead to subtle errors in operations that depend on the length of time between dates.\n",
      "  new_time = da_weighted_mean.indexes['time'].to_datetimeindex()\n",
      "/g/data/vf71/la6889/lme_scale_calibration_ISMIP3a/python_workflow/useful_functions.py:66: RuntimeWarning: Converting a CFTimeIndex with dates from a non-standard calendar, '360_day', to a pandas.DatetimeIndex, which uses dates from the standard calendar.  This may lead to subtle errors in operations that depend on the length of time between dates.\n",
      "  new_time = da_weighted_mean.indexes['time'].to_datetimeindex()\n",
      "/g/data/vf71/la6889/lme_scale_calibration_ISMIP3a/python_workflow/useful_functions.py:66: RuntimeWarning: Converting a CFTimeIndex with dates from a non-standard calendar, '360_day', to a pandas.DatetimeIndex, which uses dates from the standard calendar.  This may lead to subtle errors in operations that depend on the length of time between dates.\n",
      "  new_time = da_weighted_mean.indexes['time'].to_datetimeindex()\n",
      "/g/data/vf71/la6889/lme_scale_calibration_ISMIP3a/python_workflow/useful_functions.py:66: RuntimeWarning: Converting a CFTimeIndex with dates from a non-standard calendar, '360_day', to a pandas.DatetimeIndex, which uses dates from the standard calendar.  This may lead to subtle errors in operations that depend on the length of time between dates.\n",
      "  new_time = da_weighted_mean.indexes['time'].to_datetimeindex()\n"
     ]
    }
   ],
   "source": [
    "#Obsclim - calculate depth separately because it does not have a time dimension\n",
    "depth = uf.weighted_mean_timestep(\n",
    "    [f for f in gfdl_depth if 'obsclim' in f][0],\n",
    "    weights)\n",
    "\n",
    "for i, f in enumerate(gfdl_obs_files):\n",
    "    if i == 0:\n",
    "        weighted_obs_df = uf.weighted_mean_timestep(f, weights)\n",
    "    else:\n",
    "        df = uf.weighted_mean_timestep(f, weights)\n",
    "        weighted_obs_df = pd.merge(weighted_obs_df, df, on = 'time')"
   ]
  },
  {
   "cell_type": "code",
   "execution_count": 10,
   "id": "0b76c5a3-2ad2-48df-82bb-491404f18d4f",
   "metadata": {},
   "outputs": [
    {
     "data": {
      "text/html": [
       "<div>\n",
       "<style scoped>\n",
       "    .dataframe tbody tr th:only-of-type {\n",
       "        vertical-align: middle;\n",
       "    }\n",
       "\n",
       "    .dataframe tbody tr th {\n",
       "        vertical-align: top;\n",
       "    }\n",
       "\n",
       "    .dataframe thead th {\n",
       "        text-align: right;\n",
       "    }\n",
       "</style>\n",
       "<table border=\"1\" class=\"dataframe\">\n",
       "  <thead>\n",
       "    <tr style=\"text-align: right;\">\n",
       "      <th></th>\n",
       "      <th>region</th>\n",
       "      <th>scenario</th>\n",
       "      <th>time</th>\n",
       "      <th>year</th>\n",
       "      <th>month</th>\n",
       "      <th>depth</th>\n",
       "      <th>tot_area_m2</th>\n",
       "      <th>expc-bot_mol_m-2_s-1</th>\n",
       "      <th>phyc-vint_mol_m-2</th>\n",
       "      <th>phypico-vint_mol_m-2</th>\n",
       "      <th>tob_degC</th>\n",
       "      <th>tos_degC</th>\n",
       "    </tr>\n",
       "  </thead>\n",
       "  <tbody>\n",
       "    <tr>\n",
       "      <th>0</th>\n",
       "      <td>LME 61</td>\n",
       "      <td>obsclim</td>\n",
       "      <td>1961-01-01</td>\n",
       "      <td>1961</td>\n",
       "      <td>January</td>\n",
       "      <td>519.051326</td>\n",
       "      <td>2.639106e+12</td>\n",
       "      <td>1.841199e-07</td>\n",
       "      <td>0.323793</td>\n",
       "      <td>0.080829</td>\n",
       "      <td>-1.337035</td>\n",
       "      <td>0.303510</td>\n",
       "    </tr>\n",
       "    <tr>\n",
       "      <th>1</th>\n",
       "      <td>LME 61</td>\n",
       "      <td>obsclim</td>\n",
       "      <td>1961-02-01</td>\n",
       "      <td>1961</td>\n",
       "      <td>February</td>\n",
       "      <td>519.051326</td>\n",
       "      <td>2.639106e+12</td>\n",
       "      <td>7.071567e-08</td>\n",
       "      <td>0.227868</td>\n",
       "      <td>0.117543</td>\n",
       "      <td>-1.292281</td>\n",
       "      <td>0.107454</td>\n",
       "    </tr>\n",
       "    <tr>\n",
       "      <th>2</th>\n",
       "      <td>LME 61</td>\n",
       "      <td>obsclim</td>\n",
       "      <td>1961-03-01</td>\n",
       "      <td>1961</td>\n",
       "      <td>March</td>\n",
       "      <td>519.051326</td>\n",
       "      <td>2.639106e+12</td>\n",
       "      <td>3.582670e-08</td>\n",
       "      <td>0.164603</td>\n",
       "      <td>0.101765</td>\n",
       "      <td>-1.278954</td>\n",
       "      <td>-0.974172</td>\n",
       "    </tr>\n",
       "    <tr>\n",
       "      <th>3</th>\n",
       "      <td>LME 61</td>\n",
       "      <td>obsclim</td>\n",
       "      <td>1961-04-01</td>\n",
       "      <td>1961</td>\n",
       "      <td>April</td>\n",
       "      <td>519.051326</td>\n",
       "      <td>2.639106e+12</td>\n",
       "      <td>1.597832e-08</td>\n",
       "      <td>0.078931</td>\n",
       "      <td>0.049341</td>\n",
       "      <td>-1.303040</td>\n",
       "      <td>-1.592488</td>\n",
       "    </tr>\n",
       "    <tr>\n",
       "      <th>4</th>\n",
       "      <td>LME 61</td>\n",
       "      <td>obsclim</td>\n",
       "      <td>1961-05-01</td>\n",
       "      <td>1961</td>\n",
       "      <td>May</td>\n",
       "      <td>519.051326</td>\n",
       "      <td>2.639106e+12</td>\n",
       "      <td>6.998199e-09</td>\n",
       "      <td>0.028267</td>\n",
       "      <td>0.018708</td>\n",
       "      <td>-1.330395</td>\n",
       "      <td>-1.759380</td>\n",
       "    </tr>\n",
       "  </tbody>\n",
       "</table>\n",
       "</div>"
      ],
      "text/plain": [
       "   region scenario       time  year     month       depth   tot_area_m2  \\\n",
       "0  LME 61  obsclim 1961-01-01  1961   January  519.051326  2.639106e+12   \n",
       "1  LME 61  obsclim 1961-02-01  1961  February  519.051326  2.639106e+12   \n",
       "2  LME 61  obsclim 1961-03-01  1961     March  519.051326  2.639106e+12   \n",
       "3  LME 61  obsclim 1961-04-01  1961     April  519.051326  2.639106e+12   \n",
       "4  LME 61  obsclim 1961-05-01  1961       May  519.051326  2.639106e+12   \n",
       "\n",
       "   expc-bot_mol_m-2_s-1  phyc-vint_mol_m-2  phypico-vint_mol_m-2  tob_degC  \\\n",
       "0          1.841199e-07           0.323793              0.080829 -1.337035   \n",
       "1          7.071567e-08           0.227868              0.117543 -1.292281   \n",
       "2          3.582670e-08           0.164603              0.101765 -1.278954   \n",
       "3          1.597832e-08           0.078931              0.049341 -1.303040   \n",
       "4          6.998199e-09           0.028267              0.018708 -1.330395   \n",
       "\n",
       "   tos_degC  \n",
       "0  0.303510  \n",
       "1  0.107454  \n",
       "2 -0.974172  \n",
       "3 -1.592488  \n",
       "4 -1.759380  "
      ]
     },
     "execution_count": 10,
     "metadata": {},
     "output_type": "execute_result"
    }
   ],
   "source": [
    "#Getting names of columns \n",
    "col_names = [i for i in weighted_obs_df.columns if i != 'time']\n",
    "\n",
    "# Add weighted mean for depth and total area\n",
    "weighted_obs_df['depth_m'] = depth\n",
    "weighted_obs_df['tot_area_m2'] = weights.values.sum()\n",
    "weighted_obs_df['year'] = weighted_obs_df.apply(\n",
    "    lambda x: x.time.year, axis = 1)\n",
    "weighted_obs_df['month'] = weighted_obs_df.apply(\n",
    "    lambda x: x.time.strftime('%B'), axis = 1)\n",
    "weighted_obs_df['region'] = 'LME 61'\n",
    "weighted_obs_df['scenario'] = 'obsclim'\n",
    "\n",
    "#Arrange columns \n",
    "names = ['region', 'scenario', 'time', 'year', 'month', 'depth', 'tot_area_m2'] + col_names\n",
    "weighted_obs_df = weighted_obs_df[names]\n",
    "\n",
    "#Check results\n",
    "weighted_obs_df.head()"
   ]
  },
  {
   "cell_type": "code",
   "execution_count": 11,
   "id": "dbcebe87-5aae-4e53-ac47-6dfb5ae5678a",
   "metadata": {},
   "outputs": [
    {
     "name": "stderr",
     "output_type": "stream",
     "text": [
      "/g/data/vf71/la6889/lme_scale_calibration_ISMIP3a/python_workflow/useful_functions.py:66: RuntimeWarning: Converting a CFTimeIndex with dates from a non-standard calendar, '360_day', to a pandas.DatetimeIndex, which uses dates from the standard calendar.  This may lead to subtle errors in operations that depend on the length of time between dates.\n",
      "  new_time = da_weighted_mean.indexes['time'].to_datetimeindex()\n",
      "/g/data/vf71/la6889/lme_scale_calibration_ISMIP3a/python_workflow/useful_functions.py:66: RuntimeWarning: Converting a CFTimeIndex with dates from a non-standard calendar, '360_day', to a pandas.DatetimeIndex, which uses dates from the standard calendar.  This may lead to subtle errors in operations that depend on the length of time between dates.\n",
      "  new_time = da_weighted_mean.indexes['time'].to_datetimeindex()\n",
      "/g/data/vf71/la6889/lme_scale_calibration_ISMIP3a/python_workflow/useful_functions.py:66: RuntimeWarning: Converting a CFTimeIndex with dates from a non-standard calendar, '360_day', to a pandas.DatetimeIndex, which uses dates from the standard calendar.  This may lead to subtle errors in operations that depend on the length of time between dates.\n",
      "  new_time = da_weighted_mean.indexes['time'].to_datetimeindex()\n",
      "/g/data/vf71/la6889/lme_scale_calibration_ISMIP3a/python_workflow/useful_functions.py:66: RuntimeWarning: Converting a CFTimeIndex with dates from a non-standard calendar, '360_day', to a pandas.DatetimeIndex, which uses dates from the standard calendar.  This may lead to subtle errors in operations that depend on the length of time between dates.\n",
      "  new_time = da_weighted_mean.indexes['time'].to_datetimeindex()\n",
      "/g/data/vf71/la6889/lme_scale_calibration_ISMIP3a/python_workflow/useful_functions.py:66: RuntimeWarning: Converting a CFTimeIndex with dates from a non-standard calendar, '360_day', to a pandas.DatetimeIndex, which uses dates from the standard calendar.  This may lead to subtle errors in operations that depend on the length of time between dates.\n",
      "  new_time = da_weighted_mean.indexes['time'].to_datetimeindex()\n"
     ]
    }
   ],
   "source": [
    "#Ctrlclim - calculate depth separately because it does not have a time dimension\n",
    "depth = uf.weighted_mean_timestep(\n",
    "    [f for f in gfdl_depth if 'ctrlclim' in f][0],\n",
    "    weights)\n",
    "\n",
    "for i, f in enumerate(gfdl_ctrl_files):\n",
    "    if i == 0:\n",
    "        weighted_ctrl_df = uf.weighted_mean_timestep(f, weights)\n",
    "    else:\n",
    "        df = uf.weighted_mean_timestep(f, weights)\n",
    "        weighted_ctrl_df = pd.merge(weighted_ctrl_df, df, on = 'time')"
   ]
  },
  {
   "cell_type": "code",
   "execution_count": 12,
   "id": "f4c69527-6a3a-4043-a5bf-d3e846e0d307",
   "metadata": {},
   "outputs": [
    {
     "data": {
      "text/html": [
       "<div>\n",
       "<style scoped>\n",
       "    .dataframe tbody tr th:only-of-type {\n",
       "        vertical-align: middle;\n",
       "    }\n",
       "\n",
       "    .dataframe tbody tr th {\n",
       "        vertical-align: top;\n",
       "    }\n",
       "\n",
       "    .dataframe thead th {\n",
       "        text-align: right;\n",
       "    }\n",
       "</style>\n",
       "<table border=\"1\" class=\"dataframe\">\n",
       "  <thead>\n",
       "    <tr style=\"text-align: right;\">\n",
       "      <th></th>\n",
       "      <th>region</th>\n",
       "      <th>scenario</th>\n",
       "      <th>time</th>\n",
       "      <th>year</th>\n",
       "      <th>month</th>\n",
       "      <th>depth</th>\n",
       "      <th>tot_area_m2</th>\n",
       "      <th>expc-bot_mol_m-2_s-1</th>\n",
       "      <th>phyc-vint_mol_m-2</th>\n",
       "      <th>phypico-vint_mol_m-2</th>\n",
       "      <th>tob_degC</th>\n",
       "      <th>tos_degC</th>\n",
       "    </tr>\n",
       "  </thead>\n",
       "  <tbody>\n",
       "    <tr>\n",
       "      <th>0</th>\n",
       "      <td>LME 61</td>\n",
       "      <td>ctrlclim</td>\n",
       "      <td>1961-01-01</td>\n",
       "      <td>1961</td>\n",
       "      <td>January</td>\n",
       "      <td>519.051326</td>\n",
       "      <td>2.639106e+12</td>\n",
       "      <td>1.814283e-07</td>\n",
       "      <td>0.322527</td>\n",
       "      <td>0.082182</td>\n",
       "      <td>-1.335118</td>\n",
       "      <td>0.330517</td>\n",
       "    </tr>\n",
       "    <tr>\n",
       "      <th>1</th>\n",
       "      <td>LME 61</td>\n",
       "      <td>ctrlclim</td>\n",
       "      <td>1961-02-01</td>\n",
       "      <td>1961</td>\n",
       "      <td>February</td>\n",
       "      <td>519.051326</td>\n",
       "      <td>2.639106e+12</td>\n",
       "      <td>7.058071e-08</td>\n",
       "      <td>0.228363</td>\n",
       "      <td>0.118517</td>\n",
       "      <td>-1.291303</td>\n",
       "      <td>0.130712</td>\n",
       "    </tr>\n",
       "    <tr>\n",
       "      <th>2</th>\n",
       "      <td>LME 61</td>\n",
       "      <td>ctrlclim</td>\n",
       "      <td>1961-03-01</td>\n",
       "      <td>1961</td>\n",
       "      <td>March</td>\n",
       "      <td>519.051326</td>\n",
       "      <td>2.639106e+12</td>\n",
       "      <td>3.594295e-08</td>\n",
       "      <td>0.163950</td>\n",
       "      <td>0.101095</td>\n",
       "      <td>-1.279956</td>\n",
       "      <td>-0.971242</td>\n",
       "    </tr>\n",
       "    <tr>\n",
       "      <th>3</th>\n",
       "      <td>LME 61</td>\n",
       "      <td>ctrlclim</td>\n",
       "      <td>1961-04-01</td>\n",
       "      <td>1961</td>\n",
       "      <td>April</td>\n",
       "      <td>519.051326</td>\n",
       "      <td>2.639106e+12</td>\n",
       "      <td>1.602367e-08</td>\n",
       "      <td>0.078121</td>\n",
       "      <td>0.048714</td>\n",
       "      <td>-1.303288</td>\n",
       "      <td>-1.593834</td>\n",
       "    </tr>\n",
       "    <tr>\n",
       "      <th>4</th>\n",
       "      <td>LME 61</td>\n",
       "      <td>ctrlclim</td>\n",
       "      <td>1961-05-01</td>\n",
       "      <td>1961</td>\n",
       "      <td>May</td>\n",
       "      <td>519.051326</td>\n",
       "      <td>2.639106e+12</td>\n",
       "      <td>7.000150e-09</td>\n",
       "      <td>0.027814</td>\n",
       "      <td>0.018355</td>\n",
       "      <td>-1.329981</td>\n",
       "      <td>-1.760516</td>\n",
       "    </tr>\n",
       "  </tbody>\n",
       "</table>\n",
       "</div>"
      ],
      "text/plain": [
       "   region  scenario       time  year     month       depth   tot_area_m2  \\\n",
       "0  LME 61  ctrlclim 1961-01-01  1961   January  519.051326  2.639106e+12   \n",
       "1  LME 61  ctrlclim 1961-02-01  1961  February  519.051326  2.639106e+12   \n",
       "2  LME 61  ctrlclim 1961-03-01  1961     March  519.051326  2.639106e+12   \n",
       "3  LME 61  ctrlclim 1961-04-01  1961     April  519.051326  2.639106e+12   \n",
       "4  LME 61  ctrlclim 1961-05-01  1961       May  519.051326  2.639106e+12   \n",
       "\n",
       "   expc-bot_mol_m-2_s-1  phyc-vint_mol_m-2  phypico-vint_mol_m-2  tob_degC  \\\n",
       "0          1.814283e-07           0.322527              0.082182 -1.335118   \n",
       "1          7.058071e-08           0.228363              0.118517 -1.291303   \n",
       "2          3.594295e-08           0.163950              0.101095 -1.279956   \n",
       "3          1.602367e-08           0.078121              0.048714 -1.303288   \n",
       "4          7.000150e-09           0.027814              0.018355 -1.329981   \n",
       "\n",
       "   tos_degC  \n",
       "0  0.330517  \n",
       "1  0.130712  \n",
       "2 -0.971242  \n",
       "3 -1.593834  \n",
       "4 -1.760516  "
      ]
     },
     "execution_count": 12,
     "metadata": {},
     "output_type": "execute_result"
    }
   ],
   "source": [
    "# Add weighted mean for depth and total area\n",
    "weighted_ctrl_df['depth_m'] = depth\n",
    "weighted_ctrl_df['tot_area_m2'] = weights.values.sum()\n",
    "weighted_ctrl_df['year'] = weighted_ctrl_df.apply(\n",
    "    lambda x: x.time.year, axis = 1)\n",
    "weighted_ctrl_df['month'] = weighted_ctrl_df.apply(\n",
    "    lambda x: x.time.strftime('%B'), axis = 1)\n",
    "weighted_ctrl_df['region'] = 'LME 61'\n",
    "weighted_ctrl_df['scenario'] = 'ctrlclim'\n",
    "\n",
    "#Arrange columns \n",
    "weighted_ctrl_df = weighted_ctrl_df[names]\n",
    "\n",
    "#Check results\n",
    "weighted_ctrl_df.head()"
   ]
  },
  {
   "cell_type": "markdown",
   "id": "b0fce9bd-5172-48af-b26c-0786bbb3686f",
   "metadata": {},
   "source": [
    "### Save outputs "
   ]
  },
  {
   "cell_type": "code",
   "execution_count": 47,
   "id": "90dbccab-0465-4689-87b4-98b8d2457d50",
   "metadata": {},
   "outputs": [],
   "source": [
    "weighted_obs_df.to_parquet(\n",
    "    os.path.join(gfdl_out, 'obsclim_dbpm_all-inputs_LME_61_1961-2010.parquet'), \n",
    "    index = False)\n",
    "\n",
    "weighted_ctrl_df.to_parquet(\n",
    "    os.path.join(gfdl_out, 'ctrlclim_dbpm_all-inputs_LME_61_1961-2010.parquet'), \n",
    "    index = False)"
   ]
  },
  {
   "cell_type": "markdown",
   "id": "80e95dd1-69ce-47f3-92d6-95e7bb586fb3",
   "metadata": {},
   "source": [
    "## Creating **spinup** period\n",
    "We will use data from `ctrlclim` between 1961 and 1980 as our spinup period. Our spinup period will go from 1841 to 1960."
   ]
  },
  {
   "cell_type": "code",
   "execution_count": 48,
   "id": "d2ea86ff-6c5c-4cec-afbc-5457cc71a6f7",
   "metadata": {},
   "outputs": [
    {
     "data": {
      "text/html": [
       "<div>\n",
       "<style scoped>\n",
       "    .dataframe tbody tr th:only-of-type {\n",
       "        vertical-align: middle;\n",
       "    }\n",
       "\n",
       "    .dataframe tbody tr th {\n",
       "        vertical-align: top;\n",
       "    }\n",
       "\n",
       "    .dataframe thead th {\n",
       "        text-align: right;\n",
       "    }\n",
       "</style>\n",
       "<table border=\"1\" class=\"dataframe\">\n",
       "  <thead>\n",
       "    <tr style=\"text-align: right;\">\n",
       "      <th></th>\n",
       "      <th>region</th>\n",
       "      <th>scenario</th>\n",
       "      <th>time</th>\n",
       "      <th>year</th>\n",
       "      <th>month</th>\n",
       "      <th>depth_m</th>\n",
       "      <th>tot_area_m2</th>\n",
       "      <th>expc-bot_mol_m-2_s-1</th>\n",
       "      <th>phyc-vint_mol_m-2</th>\n",
       "      <th>phypico-vint_mol_m-2</th>\n",
       "      <th>tob_degC</th>\n",
       "      <th>tos_degC</th>\n",
       "    </tr>\n",
       "  </thead>\n",
       "  <tbody>\n",
       "    <tr>\n",
       "      <th>0</th>\n",
       "      <td>LME 61</td>\n",
       "      <td>ctrlclim</td>\n",
       "      <td>1961-01-01</td>\n",
       "      <td>1961</td>\n",
       "      <td>January</td>\n",
       "      <td>519.051326</td>\n",
       "      <td>2.639106e+12</td>\n",
       "      <td>1.814283e-07</td>\n",
       "      <td>0.322527</td>\n",
       "      <td>0.082182</td>\n",
       "      <td>-1.335118</td>\n",
       "      <td>0.330517</td>\n",
       "    </tr>\n",
       "    <tr>\n",
       "      <th>1</th>\n",
       "      <td>LME 61</td>\n",
       "      <td>ctrlclim</td>\n",
       "      <td>1961-02-01</td>\n",
       "      <td>1961</td>\n",
       "      <td>February</td>\n",
       "      <td>519.051326</td>\n",
       "      <td>2.639106e+12</td>\n",
       "      <td>7.058071e-08</td>\n",
       "      <td>0.228363</td>\n",
       "      <td>0.118517</td>\n",
       "      <td>-1.291303</td>\n",
       "      <td>0.130712</td>\n",
       "    </tr>\n",
       "    <tr>\n",
       "      <th>2</th>\n",
       "      <td>LME 61</td>\n",
       "      <td>ctrlclim</td>\n",
       "      <td>1961-03-01</td>\n",
       "      <td>1961</td>\n",
       "      <td>March</td>\n",
       "      <td>519.051326</td>\n",
       "      <td>2.639106e+12</td>\n",
       "      <td>3.594295e-08</td>\n",
       "      <td>0.163950</td>\n",
       "      <td>0.101095</td>\n",
       "      <td>-1.279956</td>\n",
       "      <td>-0.971242</td>\n",
       "    </tr>\n",
       "    <tr>\n",
       "      <th>3</th>\n",
       "      <td>LME 61</td>\n",
       "      <td>ctrlclim</td>\n",
       "      <td>1961-04-01</td>\n",
       "      <td>1961</td>\n",
       "      <td>April</td>\n",
       "      <td>519.051326</td>\n",
       "      <td>2.639106e+12</td>\n",
       "      <td>1.602367e-08</td>\n",
       "      <td>0.078121</td>\n",
       "      <td>0.048714</td>\n",
       "      <td>-1.303288</td>\n",
       "      <td>-1.593834</td>\n",
       "    </tr>\n",
       "    <tr>\n",
       "      <th>4</th>\n",
       "      <td>LME 61</td>\n",
       "      <td>ctrlclim</td>\n",
       "      <td>1961-05-01</td>\n",
       "      <td>1961</td>\n",
       "      <td>May</td>\n",
       "      <td>519.051326</td>\n",
       "      <td>2.639106e+12</td>\n",
       "      <td>7.000150e-09</td>\n",
       "      <td>0.027814</td>\n",
       "      <td>0.018355</td>\n",
       "      <td>-1.329981</td>\n",
       "      <td>-1.760516</td>\n",
       "    </tr>\n",
       "  </tbody>\n",
       "</table>\n",
       "</div>"
      ],
      "text/plain": [
       "   region  scenario       time  year     month     depth_m   tot_area_m2  \\\n",
       "0  LME 61  ctrlclim 1961-01-01  1961   January  519.051326  2.639106e+12   \n",
       "1  LME 61  ctrlclim 1961-02-01  1961  February  519.051326  2.639106e+12   \n",
       "2  LME 61  ctrlclim 1961-03-01  1961     March  519.051326  2.639106e+12   \n",
       "3  LME 61  ctrlclim 1961-04-01  1961     April  519.051326  2.639106e+12   \n",
       "4  LME 61  ctrlclim 1961-05-01  1961       May  519.051326  2.639106e+12   \n",
       "\n",
       "   expc-bot_mol_m-2_s-1  phyc-vint_mol_m-2  phypico-vint_mol_m-2  tob_degC  \\\n",
       "0          1.814283e-07           0.322527              0.082182 -1.335118   \n",
       "1          7.058071e-08           0.228363              0.118517 -1.291303   \n",
       "2          3.594295e-08           0.163950              0.101095 -1.279956   \n",
       "3          1.602367e-08           0.078121              0.048714 -1.303288   \n",
       "4          7.000150e-09           0.027814              0.018355 -1.329981   \n",
       "\n",
       "   tos_degC  \n",
       "0  0.330517  \n",
       "1  0.130712  \n",
       "2 -0.971242  \n",
       "3 -1.593834  \n",
       "4 -1.760516  "
      ]
     },
     "execution_count": 48,
     "metadata": {},
     "output_type": "execute_result"
    }
   ],
   "source": [
    "#Extract data between 1961 and 1980\n",
    "spinup = weighted_ctrl_df[(weighted_ctrl_df.year >= 1961) & (weighted_ctrl_df.year <= 1980)]\n",
    "spinup.head()"
   ]
  },
  {
   "cell_type": "markdown",
   "id": "9e5efb26-648c-4672-b4eb-660962affcb1",
   "metadata": {},
   "source": [
    "Repeating data six times to create a spinup cycle of 120 years from 1841 to 1960."
   ]
  },
  {
   "cell_type": "code",
   "execution_count": 49,
   "id": "acb5600f-ff17-4f26-9762-2ae062d84fe8",
   "metadata": {},
   "outputs": [],
   "source": [
    "#Create a vector with dates within spinup period\n",
    "spinup_period = pd.date_range('1841-01-01', end = '1960-12-31', freq = 'MS')\n",
    "\n",
    "#Create data frame that matches spinup period\n",
    "spinup_df = pd.concat([spinup, spinup], axis = 0)\n",
    "while len(spinup_df) < len(spinup_period):\n",
    "    spinup_df = pd.concat([spinup_df, spinup], axis = 0)"
   ]
  },
  {
   "cell_type": "markdown",
   "id": "d9387691-f0dd-4563-9f4f-c9e261c10535",
   "metadata": {},
   "source": [
    "Replaces dates in data frame with spinup period and relabel `scenario` as *spinup*."
   ]
  },
  {
   "cell_type": "code",
   "execution_count": 50,
   "id": "41417641-6120-4412-b576-cbcfef183301",
   "metadata": {},
   "outputs": [
    {
     "data": {
      "text/html": [
       "<div>\n",
       "<style scoped>\n",
       "    .dataframe tbody tr th:only-of-type {\n",
       "        vertical-align: middle;\n",
       "    }\n",
       "\n",
       "    .dataframe tbody tr th {\n",
       "        vertical-align: top;\n",
       "    }\n",
       "\n",
       "    .dataframe thead th {\n",
       "        text-align: right;\n",
       "    }\n",
       "</style>\n",
       "<table border=\"1\" class=\"dataframe\">\n",
       "  <thead>\n",
       "    <tr style=\"text-align: right;\">\n",
       "      <th></th>\n",
       "      <th>region</th>\n",
       "      <th>scenario</th>\n",
       "      <th>time</th>\n",
       "      <th>year</th>\n",
       "      <th>month</th>\n",
       "      <th>depth_m</th>\n",
       "      <th>tot_area_m2</th>\n",
       "      <th>expc-bot_mol_m-2_s-1</th>\n",
       "      <th>phyc-vint_mol_m-2</th>\n",
       "      <th>phypico-vint_mol_m-2</th>\n",
       "      <th>tob_degC</th>\n",
       "      <th>tos_degC</th>\n",
       "    </tr>\n",
       "  </thead>\n",
       "  <tbody>\n",
       "    <tr>\n",
       "      <th>0</th>\n",
       "      <td>LME 61</td>\n",
       "      <td>spinup</td>\n",
       "      <td>1841-01-01</td>\n",
       "      <td>1841</td>\n",
       "      <td>January</td>\n",
       "      <td>519.051326</td>\n",
       "      <td>2.639106e+12</td>\n",
       "      <td>1.814283e-07</td>\n",
       "      <td>0.322527</td>\n",
       "      <td>0.082182</td>\n",
       "      <td>-1.335118</td>\n",
       "      <td>0.330517</td>\n",
       "    </tr>\n",
       "    <tr>\n",
       "      <th>1</th>\n",
       "      <td>LME 61</td>\n",
       "      <td>spinup</td>\n",
       "      <td>1841-02-01</td>\n",
       "      <td>1841</td>\n",
       "      <td>February</td>\n",
       "      <td>519.051326</td>\n",
       "      <td>2.639106e+12</td>\n",
       "      <td>7.058071e-08</td>\n",
       "      <td>0.228363</td>\n",
       "      <td>0.118517</td>\n",
       "      <td>-1.291303</td>\n",
       "      <td>0.130712</td>\n",
       "    </tr>\n",
       "    <tr>\n",
       "      <th>2</th>\n",
       "      <td>LME 61</td>\n",
       "      <td>spinup</td>\n",
       "      <td>1841-03-01</td>\n",
       "      <td>1841</td>\n",
       "      <td>March</td>\n",
       "      <td>519.051326</td>\n",
       "      <td>2.639106e+12</td>\n",
       "      <td>3.594295e-08</td>\n",
       "      <td>0.163950</td>\n",
       "      <td>0.101095</td>\n",
       "      <td>-1.279956</td>\n",
       "      <td>-0.971242</td>\n",
       "    </tr>\n",
       "    <tr>\n",
       "      <th>3</th>\n",
       "      <td>LME 61</td>\n",
       "      <td>spinup</td>\n",
       "      <td>1841-04-01</td>\n",
       "      <td>1841</td>\n",
       "      <td>April</td>\n",
       "      <td>519.051326</td>\n",
       "      <td>2.639106e+12</td>\n",
       "      <td>1.602367e-08</td>\n",
       "      <td>0.078121</td>\n",
       "      <td>0.048714</td>\n",
       "      <td>-1.303288</td>\n",
       "      <td>-1.593834</td>\n",
       "    </tr>\n",
       "    <tr>\n",
       "      <th>4</th>\n",
       "      <td>LME 61</td>\n",
       "      <td>spinup</td>\n",
       "      <td>1841-05-01</td>\n",
       "      <td>1841</td>\n",
       "      <td>May</td>\n",
       "      <td>519.051326</td>\n",
       "      <td>2.639106e+12</td>\n",
       "      <td>7.000150e-09</td>\n",
       "      <td>0.027814</td>\n",
       "      <td>0.018355</td>\n",
       "      <td>-1.329981</td>\n",
       "      <td>-1.760516</td>\n",
       "    </tr>\n",
       "  </tbody>\n",
       "</table>\n",
       "</div>"
      ],
      "text/plain": [
       "   region scenario       time  year     month     depth_m   tot_area_m2  \\\n",
       "0  LME 61   spinup 1841-01-01  1841   January  519.051326  2.639106e+12   \n",
       "1  LME 61   spinup 1841-02-01  1841  February  519.051326  2.639106e+12   \n",
       "2  LME 61   spinup 1841-03-01  1841     March  519.051326  2.639106e+12   \n",
       "3  LME 61   spinup 1841-04-01  1841     April  519.051326  2.639106e+12   \n",
       "4  LME 61   spinup 1841-05-01  1841       May  519.051326  2.639106e+12   \n",
       "\n",
       "   expc-bot_mol_m-2_s-1  phyc-vint_mol_m-2  phypico-vint_mol_m-2  tob_degC  \\\n",
       "0          1.814283e-07           0.322527              0.082182 -1.335118   \n",
       "1          7.058071e-08           0.228363              0.118517 -1.291303   \n",
       "2          3.594295e-08           0.163950              0.101095 -1.279956   \n",
       "3          1.602367e-08           0.078121              0.048714 -1.303288   \n",
       "4          7.000150e-09           0.027814              0.018355 -1.329981   \n",
       "\n",
       "   tos_degC  \n",
       "0  0.330517  \n",
       "1  0.130712  \n",
       "2 -0.971242  \n",
       "3 -1.593834  \n",
       "4 -1.760516  "
      ]
     },
     "execution_count": 50,
     "metadata": {},
     "output_type": "execute_result"
    }
   ],
   "source": [
    "spinup_df['time'] = spinup_period\n",
    "#Year needs to be updated to match new spinup period\n",
    "spinup_df['year'] = spinup_df.apply(\n",
    "    lambda x: x.time.year, axis = 1)\n",
    "spinup_df['scenario'] = 'spinup'\n",
    "\n",
    "#Check results\n",
    "spinup_df.head()"
   ]
  },
  {
   "cell_type": "code",
   "execution_count": 51,
   "id": "220878ac-e0e9-4e14-94cd-b1e57f20653a",
   "metadata": {},
   "outputs": [],
   "source": [
    "spinup_df.to_parquet(\n",
    "    os.path.join(gfdl_out, 'spinup_dbpm_all-inputs_LME_61_1841-1960.parquet'), \n",
    "    index = False)"
   ]
  }
 ],
 "metadata": {
  "kernelspec": {
   "display_name": "Python [conda env:analysis3-24.04] *",
   "language": "python",
   "name": "conda-env-analysis3-24.04-py"
  },
  "language_info": {
   "codemirror_mode": {
    "name": "ipython",
    "version": 3
   },
   "file_extension": ".py",
   "mimetype": "text/x-python",
   "name": "python",
   "nbconvert_exporter": "python",
   "pygments_lexer": "ipython3",
   "version": "3.10.14"
  }
 },
 "nbformat": 4,
 "nbformat_minor": 5
}
