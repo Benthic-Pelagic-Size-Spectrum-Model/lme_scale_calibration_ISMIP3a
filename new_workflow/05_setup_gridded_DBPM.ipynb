{
 "cells": [
  {
   "cell_type": "markdown",
   "id": "2b0fc6a1-968c-467f-9a6c-5d15003d2364",
   "metadata": {},
   "source": [
    "# Setting up inputs for the gridded DBPM run\n",
    "**Author**: Denisse Fierro Arcos  \n",
    "**Date**: 2025-01-10  \n",
    "  \n",
    "In this notebook, we will prepare all necessary inputs need to run the gridded version of DBPM. Note that this step needs to be completed only once for each model run.  "
   ]
  },
  {
   "cell_type": "markdown",
   "id": "757dc852-3788-41d5-bc58-c9af10936318",
   "metadata": {},
   "source": [
    "## Loading relevant libraries"
   ]
  },
  {
   "cell_type": "code",
   "execution_count": 1,
   "id": "848b5327-1a0a-422e-84eb-068cb68e341b",
   "metadata": {},
   "outputs": [],
   "source": [
    "import os\n",
    "os.chdir('/g/data/vf71/la6889/lme_scale_calibration_ISMIP3a/new_workflow/')\n",
    "import xarray as xr\n",
    "import json\n",
    "import pandas as pd\n",
    "import numpy as np\n",
    "import useful_functions as uf\n",
    "from dask.distributed import Client"
   ]
  },
  {
   "cell_type": "markdown",
   "id": "4421d2e2-582e-4b52-acbb-908c948f554b",
   "metadata": {},
   "source": [
    "## Start a cluster for parallelisation"
   ]
  },
  {
   "cell_type": "code",
   "execution_count": 2,
   "id": "ebd04e5c-6715-494c-8700-808b31950a9e",
   "metadata": {},
   "outputs": [],
   "source": [
    "client = Client(threads_per_worker = 1)"
   ]
  },
  {
   "cell_type": "markdown",
   "id": "cf196b6d-ee2c-4f02-88c3-980b042e6123",
   "metadata": {},
   "source": [
    "## Defining output folder"
   ]
  },
  {
   "cell_type": "code",
   "execution_count": 2,
   "id": "20344702-3049-4af0-ad77-85a1e9d2a1f2",
   "metadata": {},
   "outputs": [],
   "source": [
    "base_folder = '/g/data/vf71/la6889/dbpm_inputs/east_antarctica/'\n",
    "out_folder = os.path.join(base_folder, 'gridded_params')\n",
    "os.makedirs(out_folder, exist_ok = True)"
   ]
  },
  {
   "cell_type": "markdown",
   "id": "199aeabb-68d7-4e91-bed6-1fc4f7d6545e",
   "metadata": {},
   "source": [
    "## Transforming DBPM parameters to Python-friendly format\n",
    "These parameters are the outputs of the `sizeparam` function for R. They were calculated and stored in the script ([04_calculating_dbpm_fishing_params](new_workflow/04_calculating_dbpm_fishing_params.R)) as a `json` file."
   ]
  },
  {
   "cell_type": "code",
   "execution_count": 3,
   "id": "ad8c592a-521d-4115-839c-4ce841503b05",
   "metadata": {},
   "outputs": [],
   "source": [
    "#Loading gridded parameters\n",
    "gridded_params = json.load(open(\n",
    "    os.path.join(out_folder, 'dbpm_gridded_size_params_fao-58.json')))\n",
    "\n",
    "#Transforming them to Python friendly format\n",
    "gridded_python = uf.gridded_param_python(gridded_params)"
   ]
  },
  {
   "cell_type": "markdown",
   "id": "60346558-a156-491b-b396-c07d0216c6e3",
   "metadata": {},
   "source": [
    "### Adding useful entries to gridded parameters\n",
    "These variables are used multiple times within the `gridded_size_model` script, so they will be added for convenience."
   ]
  },
  {
   "cell_type": "code",
   "execution_count": 4,
   "id": "2e364a95-7416-4d7e-80c7-18385fd99214",
   "metadata": {},
   "outputs": [],
   "source": [
    "# Size classes\n",
    "log10_size_bins = np.array(gridded_python['log10_size_bins'])\n",
    "# Minimum (log10) size class for predators\n",
    "log10_ind_min_pred_size = log10_size_bins[gridded_python['ind_min_pred_size']]\n",
    "ind_min_detritivore_size = gridded_python['ind_min_detritivore_size']\n",
    "log10_ind_min_detritivore_size = log10_size_bins[ind_min_detritivore_size]\n",
    "log10_ind_min_fish_pred = log10_size_bins[gridded_python['ind_min_fish_pred']]\n",
    "log10_ind_min_fish_det = log10_size_bins[gridded_python['ind_min_fish_det']]\n",
    "\n",
    "#Adding new variables to gridded parameters\n",
    "gridded_python['log10_ind_min_pred_size'] = log10_ind_min_pred_size\n",
    "gridded_python['log10_ind_min_detritivore_size'] = log10_ind_min_detritivore_size"
   ]
  },
  {
   "cell_type": "markdown",
   "id": "978925c3-6d4d-452f-87b0-df71d6acce89",
   "metadata": {},
   "source": [
    "### Saving gridded parameters"
   ]
  },
  {
   "cell_type": "code",
   "execution_count": 80,
   "id": "0d6806f8-a5d9-42ba-a51a-68edca645209",
   "metadata": {},
   "outputs": [],
   "source": [
    "out_gridded = os.path.join(out_folder, 'dbpm_gridded_size_params_fao-58_python.json')\n",
    "\n",
    "#Save to disk\n",
    "with open(out_gridded, 'w') as outfile:\n",
    "    json.dump(gridded_python, outfile)"
   ]
  },
  {
   "cell_type": "markdown",
   "id": "60241835-6621-4fa2-aefb-4f699fe9d890",
   "metadata": {},
   "source": [
    "## Loading gridded input data\n",
    "Gridded data are needed both as direct input to DBPM and to calculate params, such as habitat preference, pelagic predator and benthic detritivore size spectrum, among other things."
   ]
  },
  {
   "cell_type": "code",
   "execution_count": 5,
   "id": "01f5e881-ab0c-47e4-a369-7169a0a1a836",
   "metadata": {},
   "outputs": [],
   "source": [
    "depth = xr.open_zarr(\n",
    "    os.path.join(base_folder, 'gridded', \n",
    "                 'gfdl-mom6-cobalt2_obsclim_deptho_15arcmin_fao-58_fixed.zarr/'))['deptho']"
   ]
  },
  {
   "cell_type": "code",
   "execution_count": 37,
   "id": "eb6a1662-199a-4299-a0be-f42b7e0a2ecd",
   "metadata": {},
   "outputs": [
    {
     "name": "stderr",
     "output_type": "stream",
     "text": [
      "/jobfs/132307763.gadi-pbs/ipykernel_316457/1484338636.py:10: RuntimeWarning: Converting a CFTimeIndex with dates from a non-standard calendar, '360_day', to a pandas.DatetimeIndex, which uses dates from the standard calendar.  This may lead to subtle errors in operations that depend on the length of time between dates.\n",
      "  int_phy_zoo['time'] = pd.DatetimeIndex(int_phy_zoo.indexes['time'].to_datetimeindex(),\n"
     ]
    }
   ],
   "source": [
    "#Loading intercept data for spinup period\n",
    "int_phy_zoo_spinup = xr.open_zarr(\n",
    "    os.path.join(base_folder, 'gridded',\n",
    "                 'gfdl-mom6-cobalt2_spinup_intercept_15arcmin_fao-58_monthly_1841_1960.zarr/'))['intercept']\n",
    "\n",
    "#Loading intercept data for model period and fixing time values\n",
    "int_phy_zoo  = xr.open_zarr(\n",
    "    os.path.join(base_folder, 'gridded',\n",
    "                 'gfdl-mom6-cobalt2_obsclim_intercept_15arcmin_fao-58_monthly_1961_2010.zarr/'))['intercept']\n",
    "int_phy_zoo['time'] = pd.DatetimeIndex(int_phy_zoo.indexes['time'].to_datetimeindex(),\n",
    "                                         dtype = 'datetime64[ns]')"
   ]
  },
  {
   "cell_type": "code",
   "execution_count": 39,
   "id": "e9e07a33-5746-4be6-838d-5b1c5fb1401f",
   "metadata": {},
   "outputs": [
    {
     "name": "stderr",
     "output_type": "stream",
     "text": [
      "/jobfs/132307763.gadi-pbs/ipykernel_316457/361179567.py:10: RuntimeWarning: Converting a CFTimeIndex with dates from a non-standard calendar, '360_day', to a pandas.DatetimeIndex, which uses dates from the standard calendar.  This may lead to subtle errors in operations that depend on the length of time between dates.\n",
      "  slope_phy_zoo['time'] = pd.DatetimeIndex(slope_phy_zoo.indexes['time'].to_datetimeindex(),\n"
     ]
    }
   ],
   "source": [
    "#Loading slope data for spinup period\n",
    "slope_phy_zoo_spinup = xr.open_zarr(\n",
    "    os.path.join(base_folder, 'gridded', \n",
    "                 'gfdl-mom6-cobalt2_spinup_slope_15arcmin_fao-58_monthly_1841_1960.zarr/'))['slope']\n",
    "\n",
    "#Loading slope data for model period and fixing time values\n",
    "slope_phy_zoo  = xr.open_zarr(\n",
    "    os.path.join(base_folder, 'gridded', \n",
    "                 'gfdl-mom6-cobalt2_obsclim_slope_15arcmin_fao-58_monthly_1961_2010.zarr/'))['slope']\n",
    "slope_phy_zoo['time'] = pd.DatetimeIndex(slope_phy_zoo.indexes['time'].to_datetimeindex(),\n",
    "                                         dtype = 'datetime64[ns]')"
   ]
  },
  {
   "cell_type": "code",
   "execution_count": 10,
   "id": "48156406-6fa6-4d1e-b76f-8211381376aa",
   "metadata": {},
   "outputs": [
    {
     "name": "stderr",
     "output_type": "stream",
     "text": [
      "/jobfs/132307763.gadi-pbs/ipykernel_316457/505148546.py:10: RuntimeWarning: Converting a CFTimeIndex with dates from a non-standard calendar, '360_day', to a pandas.DatetimeIndex, which uses dates from the standard calendar.  This may lead to subtle errors in operations that depend on the length of time between dates.\n",
      "  sea_surf_temp['time'] = pd.DatetimeIndex(sea_surf_temp.indexes['time'].to_datetimeindex(),\n"
     ]
    }
   ],
   "source": [
    "#Loading sea surface temperature data for spinup period\n",
    "sea_surf_temp_spinup = xr.open_zarr(\n",
    "    os.path.join(base_folder, 'gridded',\n",
    "                 'gfdl-mom6-cobalt2_spinup_tos_15arcmin_fao-58_monthly_1841_1960.zarr'))['tos']\n",
    "\n",
    "#Loading sea surface temperature data for model period and fixing time values\n",
    "sea_surf_temp  = xr.open_zarr(\n",
    "    os.path.join(base_folder, 'gridded', \n",
    "                 'gfdl-mom6-cobalt2_obsclim_tos_15arcmin_fao-58_monthly_1961_2010.zarr/'))['tos']\n",
    "sea_surf_temp['time'] = pd.DatetimeIndex(sea_surf_temp.indexes['time'].to_datetimeindex(),\n",
    "                                         dtype = 'datetime64[ns]')"
   ]
  },
  {
   "cell_type": "code",
   "execution_count": 9,
   "id": "39343a15-936d-413c-b28f-92de7787fff3",
   "metadata": {},
   "outputs": [
    {
     "name": "stderr",
     "output_type": "stream",
     "text": [
      "/jobfs/132307763.gadi-pbs/ipykernel_304759/2851380992.py:10: RuntimeWarning: Converting a CFTimeIndex with dates from a non-standard calendar, '360_day', to a pandas.DatetimeIndex, which uses dates from the standard calendar.  This may lead to subtle errors in operations that depend on the length of time between dates.\n",
      "  sea_floor_temp['time'] = pd.DatetimeIndex(sea_floor_temp.indexes['time'].to_datetimeindex(),\n"
     ]
    }
   ],
   "source": [
    "#Loading bottom ocean temperature data for spinup period\n",
    "sea_floor_temp_spinup = xr.open_zarr(\n",
    "    os.path.join(base_folder, 'gridded',\n",
    "                 'gfdl-mom6-cobalt2_spinup_tob_15arcmin_fao-58_monthly_1841_1960.zarr'))['tob']\n",
    "\n",
    "#Loading bottom ocean temperature data for model period and fixing time values\n",
    "sea_floor_temp  = xr.open_zarr(\n",
    "    os.path.join(base_folder, 'gridded', \n",
    "                 'gfdl-mom6-cobalt2_obsclim_tob_15arcmin_fao-58_monthly_1961_2010.zarr/'))['tob']\n",
    "sea_floor_temp['time'] = pd.DatetimeIndex(sea_floor_temp.indexes['time'].to_datetimeindex(),\n",
    "                                          dtype = 'datetime64[ns]')"
   ]
  },
  {
   "cell_type": "markdown",
   "id": "0970e6ab-8c4f-496e-bfc3-f486addd44ed",
   "metadata": {},
   "source": [
    "### Creating time variable that contains a timestep for initialisation of DBPM\n",
    "This will only be applied to the `spinup` period. It will add a timestep before the start of the period to initialise DBPM. This is not applied to the modelling period because values from the last time step of the `spinup` period will be used to run DBPM."
   ]
  },
  {
   "cell_type": "code",
   "execution_count": 8,
   "id": "82c824a1-c018-4c27-b2ba-7afa561753b6",
   "metadata": {},
   "outputs": [],
   "source": [
    "time_spinup = (np.append((int_phy_zoo_spinup.time.min().values-np.timedelta64(1, 'm')),\n",
    "                         int_phy_zoo_spinup.time.values))"
   ]
  },
  {
   "cell_type": "markdown",
   "id": "8665fe08-6619-4929-a8b8-d3feca30ccf5",
   "metadata": {},
   "source": [
    "## Creating gridded variables needed for DBPM run\n",
    "We will create data array versions of the gridded inputs."
   ]
  },
  {
   "cell_type": "markdown",
   "id": "7112441d-4b3b-49b1-bbfc-41e3b98a9e2c",
   "metadata": {},
   "source": [
    "### DBPM size classes"
   ]
  },
  {
   "cell_type": "code",
   "execution_count": 11,
   "id": "de3b73e0-857c-43a6-8a63-21c678f92b6b",
   "metadata": {},
   "outputs": [],
   "source": [
    "# Log10 size of individuals found in the model\n",
    "log10_size_bins_mat = xr.DataArray(data = log10_size_bins,\n",
    "                                   dims = ['size_class'], \n",
    "                                   coords = {'size_class': log10_size_bins})\n",
    "\n",
    "# size of individuals found in the model\n",
    "size_bin_vals = 10**log10_size_bins_mat"
   ]
  },
  {
   "cell_type": "markdown",
   "id": "35fde49e-006e-4910-8ad8-ca8cb3a12948",
   "metadata": {},
   "source": [
    "### Fishing effort\n",
    "Effort data for the `spinup` and modelling period is provided in a single entry in `gridded_python`. We will split this data into the `spinup` and modelling period."
   ]
  },
  {
   "cell_type": "code",
   "execution_count": 12,
   "id": "8718defd-1196-4996-9011-a7e4f5dc61b8",
   "metadata": {},
   "outputs": [],
   "source": [
    "effort_spinup = (xr.DataArray(gridded_python['effort'][:len(int_phy_zoo_spinup.time)], \n",
    "                              dims = 'time', \n",
    "                              coords = {'time': int_phy_zoo_spinup.time}).\n",
    "                 expand_dims({'lat': depth.lat, 'lon': depth.lon}).\n",
    "                 transpose('time', 'lat', 'lon'))\n",
    "\n",
    "effort = (xr.DataArray(gridded_python['effort'][len(int_phy_zoo_spinup.time):],\n",
    "                       dims = 'time', coords = {'time': int_phy_zoo.time}).\n",
    "          expand_dims({'lat': depth.lat, 'lon': depth.lon}).\n",
    "          transpose('time', 'lat', 'lon'))"
   ]
  },
  {
   "cell_type": "markdown",
   "id": "5ade47de-7a3c-422d-9513-195535ddbca6",
   "metadata": {},
   "source": [
    "### Setting habitat preferences\n",
    "Predator coupling to benthic prey, which is depth dependent, 0.75 above 500 m, 0.5 between 500 and 1800 m, and 0 below 1800 m. Predator coupling to pelagic prey is equal to `1-(benthic coupling)`.  \n",
    "  \n",
    "These values were suggested by Clive Trueman based on stable isotope work, and proportion of biomass. Rockall Trough studies."
   ]
  },
  {
   "cell_type": "code",
   "execution_count": 11,
   "id": "fb97791d-c4d1-4e60-90d5-dc9e774a3991",
   "metadata": {},
   "outputs": [],
   "source": [
    "pref_benthos = (0.8*np.exp((-1/250*depth)))\n",
    "pref_pelagic = (1-pref_benthos)"
   ]
  },
  {
   "cell_type": "markdown",
   "id": "1a2ac792-e056-476a-b6d0-9c1c3a7b1672",
   "metadata": {},
   "source": [
    "### Initiliasing values for pelagic predators and benthic detritivores"
   ]
  },
  {
   "cell_type": "code",
   "execution_count": 10,
   "id": "dd28da80-279b-43a7-ad66-70e44eb74976",
   "metadata": {},
   "outputs": [],
   "source": [
    "init_pred = (xr.DataArray(data = gridded_python['init_pred'], \n",
    "                          dims = ['size_class'], \n",
    "                          coords = {'size_class': log10_size_bins}).\n",
    "             expand_dims({'lat': depth.lat, 'lon': depth.lon}))\n",
    "\n",
    "init_detritivores = (xr.DataArray(data = gridded_python['init_detritivores'], \n",
    "                                  dims = ['size_class'], \n",
    "                                  coords = {'size_class': log10_size_bins}).\n",
    "                     expand_dims({'lat': depth.lat, 'lon': depth.lon}))"
   ]
  },
  {
   "cell_type": "markdown",
   "id": "2b8d8ba1-2030-4bbd-a24b-045e2256b7b6",
   "metadata": {},
   "source": [
    "### Calculating constant growth and mortality"
   ]
  },
  {
   "cell_type": "code",
   "execution_count": 19,
   "id": "b0e8f5ce-c8f3-4b2b-ab62-bb6780213f77",
   "metadata": {},
   "outputs": [],
   "source": [
    "pred_prey_mat = uf.pred_prey_matrix(log10_size_bins)\n",
    "\n",
    "constant_growth = xr.DataArray(uf.gphi_f(pred_prey_mat, \n",
    "                                         gridded_python['log10_pred_prey_ratio'],\n",
    "                                         gridded_python['log_prey_pref']),\n",
    "                               dims = ['size_class', 'sc'])\n",
    "\n",
    "constant_mortality = xr.DataArray(uf.mphi_f(-pred_prey_mat, \n",
    "                                            gridded_python['log10_pred_prey_ratio'],\n",
    "                                            gridded_python['log_prey_pref'],\n",
    "                                            gridded_python['metabolic_req_pred']),\n",
    "                                  dims = ['size_class', 'sc'])"
   ]
  },
  {
   "cell_type": "markdown",
   "id": "fd6815bb-5b81-4b67-9ea9-f6474617aefd",
   "metadata": {},
   "source": [
    "### Building metabolic requirements lookup table \n",
    "Metabolic requirements are estimated per size class"
   ]
  },
  {
   "cell_type": "code",
   "execution_count": 20,
   "id": "0185155e-c198-4a62-8088-99d4d02360c1",
   "metadata": {},
   "outputs": [],
   "source": [
    "met_req_log10_size_bins = uf.expax_f(log10_size_bins_mat, \n",
    "                                     gridded_python['metabolic_req_pred'])"
   ]
  },
  {
   "cell_type": "code",
   "execution_count": 21,
   "id": "04776167-9b9f-4bac-98f3-5b478c7c9a6d",
   "metadata": {},
   "outputs": [],
   "source": [
    "consume_pelagic = (pref_pelagic*gridded_python['hr_volume_search']*\n",
    "                   met_req_log10_size_bins)\n",
    "consume_benthos = (pref_benthos*gridded_python['hr_volume_search']*\n",
    "                   met_req_log10_size_bins)"
   ]
  },
  {
   "cell_type": "markdown",
   "id": "3bc05354-7be9-4bbe-8154-0e29c53634b5",
   "metadata": {},
   "source": [
    "### Creating a gridded time series of intercept of plankton size spectrum \n",
    "The size spectrum was estimated by the `GetPPIntSlope` function using GFDL-MOM6-COBALT2 outputs in script ([01_processing_dbpm_global_inputs](new_workflow/01_processing_dbpm_global_inputs.ipynb))."
   ]
  },
  {
   "cell_type": "code",
   "execution_count": 41,
   "id": "8ef1bc70-87a5-4e55-b09f-07df49883f33",
   "metadata": {},
   "outputs": [],
   "source": [
    "ui0_spinup = 10**int_phy_zoo_spinup\n",
    "ui0 = 10**int_phy_zoo"
   ]
  },
  {
   "cell_type": "markdown",
   "id": "d7240d42-1454-45f6-885f-3e4041e5d408",
   "metadata": {},
   "source": [
    "### Calculating `predator` biomass for `spinup` and modelling period\n",
    "Values are derived from plankton-zooplankton size spectrum, slope and size class."
   ]
  },
  {
   "cell_type": "code",
   "execution_count": 42,
   "id": "99461a44-cc04-4f7e-802d-158b17385dac",
   "metadata": {},
   "outputs": [],
   "source": [
    "# Calculating predator biomass for spinup period\n",
    "pred_start_spinup = ui0_spinup*(10**(slope_phy_zoo_spinup*log10_size_bins_mat))\n",
    "# Keep values outside the predator size classes, otherwise change to zero (0)\n",
    "pred_start_spinup = xr.where(pred_start_spinup.size_class <= log10_ind_min_pred_size,\n",
    "                             pred_start_spinup, 0)\n",
    "# Copy first time step predator values as 'initialisation' timestep\n",
    "pred_start_spinup = xr.concat([pred_start_spinup.isel(time = 0), pred_start_spinup],\n",
    "                              dim = 'time')\n",
    "# Update time labels\n",
    "pred_start_spinup['time'] = time_spinup\n",
    "# Assigning initial values (time = 0) for predators from gridded parameters\n",
    "predators_spinup = xr.where((pred_start_spinup.time == pred_start_spinup.time.min()) & \n",
    "                            (pred_start_spinup.size_class >= log10_ind_min_pred_size),\n",
    "                            init_pred, pred_start_spinup)\n",
    "\n",
    "# Calculating predator biomass for modelling period\n",
    "pred_start = ui0*(10**(slope_phy_zoo*log10_size_bins_mat))\n",
    "# Keep values outside the predator size classes, otherwise change to zero (0)\n",
    "predators = xr.where(pred_start.size_class <= log10_ind_min_pred_size,\n",
    "                      pred_start, 0)"
   ]
  },
  {
   "cell_type": "markdown",
   "id": "41385022-5883-42ea-ac7c-920b3be2b276",
   "metadata": {},
   "source": [
    "### Detritivore biomass and detritus\n",
    "Creating gridded versions of `detritivores` and `detritus` initalising values to be used in gridded DBPM."
   ]
  },
  {
   "cell_type": "code",
   "execution_count": 63,
   "id": "1aaaf7e9-419c-4c21-82d2-851078f2db0e",
   "metadata": {},
   "outputs": [],
   "source": [
    "# Assigning initial values (time = 0) for detritivores from gridded parameters\n",
    "detritivores = xr.where((init_detritivores.size_class >= log10_ind_min_detritivore_size),\n",
    "                        init_detritivores, 0)\n",
    "# Adding time dimension\n",
    "detritivores = detritivores.expand_dims({'time': [min(time_spinup)]})\n",
    "\n",
    "# Initialising detritus\n",
    "detritus = xr.zeros_like(detritivores.isel(size_class = 0).drop_vars('size_class'))\n",
    "# Assigning initial values (time = 0) for detritus from gridded parameters\n",
    "detritus = xr.where(detritus == 0, gridded_python['init_detritus'], detritus)"
   ]
  },
  {
   "cell_type": "markdown",
   "id": "74d1404c-7438-4395-ba25-bf401ffd4adc",
   "metadata": {},
   "source": [
    "### Note\n",
    "If no initial values for `predators` and `detritivores` are included in the gridded parameters, use the following code instead:  \n",
    "  \n",
    "```\n",
    "predators_spinup = xr.where((pred_start_spinup.time == pred_start_spinup.time.min()) &\n",
    "                       (pred_start_spinup.size_class >= log10_ind_min_pred_size) &\n",
    "                       (pred_start_spinup.size_class < log10_size_bins[120]),\n",
    "                       init_pred, pred_start_spinup)\n",
    "\n",
    "detritivores = xr.where((init_detritivores.size_class >= log10_ind_min_detritivore_size) &\n",
    "                         (init_detritivores.size_class < log10_size_bins[120]), \n",
    "                         init_detritivores, detri_init)\n",
    "```"
   ]
  },
  {
   "cell_type": "markdown",
   "id": "f3c21f10-f0e9-4233-be08-432f5a903628",
   "metadata": {},
   "source": [
    "### Fishing mortality\n",
    "Here `fishing_mort_pred` and `fishing_mort_det` are fixed catchability terms for `predators` and `detritivores`. Fishing mortality is estimated only for individuals within fished sizes (`ind_min_fish_pred` or `ind_min_fish_det`)."
   ]
  },
  {
   "cell_type": "code",
   "execution_count": 32,
   "id": "f48eac00-af93-4791-b1ec-eb9b42fde3b7",
   "metadata": {},
   "outputs": [],
   "source": [
    "# Using fish_mort_pred as a base for fishing mortality for predators\n",
    "fish_mort_pred = xr.DataArray(\n",
    "    np.repeat(gridded_python['fish_mort_pred'], \n",
    "              np.prod(consume_pelagic.shape)).reshape(consume_pelagic.shape),\n",
    "    dims = ['lat', 'lon', 'size_class'],\n",
    "    coords = {'lat': consume_pelagic.lat, 'lon': consume_pelagic.lon,\n",
    "             'size_class': consume_pelagic.size_class})\n",
    "\n",
    "# Changing mortality to zero outside the predator size fished\n",
    "fishing_mort_pred = xr.where((fish_mort_pred.size_class >= log10_ind_min_fish_pred) &\n",
    "                          (fish_mort_pred.size_class < \n",
    "                           fish_mort_pred.size_class.max()),\n",
    "                          fish_mort_pred, 0)"
   ]
  },
  {
   "cell_type": "code",
   "execution_count": 33,
   "id": "8a7737e4-707d-46e9-a33f-21836042be38",
   "metadata": {},
   "outputs": [],
   "source": [
    "# Using fish_mort_det as a base for fishing mortality for detritivores\n",
    "fish_mort_det = xr.DataArray(\n",
    "    np.repeat(gridded_python['fish_mort_detritivore'], \n",
    "              np.prod(consume_benthos.shape)).reshape(consume_benthos.shape),\n",
    "    dims = ['lat', 'lon', 'size_class'],\n",
    "    coords = {'lat': consume_benthos.lat, 'lon': consume_benthos.lon,\n",
    "             'size_class': consume_benthos.size_class})\n",
    "\n",
    "# Changing mortality to zero outside the detritivore size fished\n",
    "fishing_mort_det = xr.where((fish_mort_det.size_class >= log10_ind_min_fish_det) &\n",
    "                          (fish_mort_det.size_class < \n",
    "                           fish_mort_det.size_class.max()),\n",
    "                          fish_mort_det, 0)"
   ]
  },
  {
   "cell_type": "markdown",
   "id": "1ad97b15-3511-48ea-9d04-173a48790a47",
   "metadata": {},
   "source": [
    "### Temperature effect on pelagic organisms\n",
    "This will be calculated for the `spinup` and modelling periods"
   ]
  },
  {
   "cell_type": "code",
   "execution_count": 34,
   "id": "611dfdb3-abf0-42bf-8f81-b6e489f5eada",
   "metadata": {},
   "outputs": [],
   "source": [
    "pel_tempeffect_spinup = np.exp(gridded_python['c1']-gridded_python['activation_energy']/\n",
    "                               (gridded_python['boltzmann']*(sea_surf_temp_spinup+273)))\n",
    "\n",
    "pel_tempeffect = np.exp(gridded_python['c1']-gridded_python['activation_energy']/\n",
    "                        (gridded_python['boltzmann']*(sea_surf_temp+273)))"
   ]
  },
  {
   "cell_type": "markdown",
   "id": "1a76c8aa-390d-4dfa-b8a2-60177bd24069",
   "metadata": {},
   "source": [
    "### Temperature effect on benthic organisms\n",
    "This will be calculated for the `spinup` and modelling periods"
   ]
  },
  {
   "cell_type": "code",
   "execution_count": 35,
   "id": "9f81eddd-1e18-4065-b03b-b36ecf086584",
   "metadata": {},
   "outputs": [],
   "source": [
    "ben_tempeffect_spinup = np.exp(gridded_python['c1']-gridded_python['activation_energy']/\n",
    "                               (gridded_python['boltzmann']*(sea_floor_temp_spinup+273)))\n",
    "\n",
    "ben_tempeffect = np.exp(gridded_python['c1']-gridded_python['activation_energy']/\n",
    "                        (gridded_python['boltzmann']*(sea_floor_temp+273)))"
   ]
  },
  {
   "cell_type": "markdown",
   "id": "69d97e3c-f734-4c1f-be48-121960a80f74",
   "metadata": {},
   "source": [
    "### Note\n",
    "If `temp_effect` is not needed, then simply assign `1` to `pel_tempeffect` and `ben_tempeffect`:  \n",
    "  \n",
    "```\n",
    "pel_tempeffect = 1\n",
    "ben_tempeffect = 1\n",
    "```"
   ]
  },
  {
   "cell_type": "markdown",
   "id": "afd0cbf3-73b2-42e8-9c08-1569841955d9",
   "metadata": {},
   "source": [
    "## Saving gridded inputs\n",
    "We will now save all the gridded inputs needed to run the DBPM model."
   ]
  },
  {
   "cell_type": "code",
   "execution_count": 36,
   "id": "240ff602-b032-42bc-b52a-ec73628f838f",
   "metadata": {},
   "outputs": [
    {
     "data": {
      "text/plain": [
       "<xarray.backends.zarr.ZarrStore at 0x1483cdfa7e40>"
      ]
     },
     "execution_count": 36,
     "metadata": {},
     "output_type": "execute_result"
    }
   ],
   "source": [
    "log10_size_bins_mat.name = 'size_bins'\n",
    "log10_size_bins_mat.to_zarr('outputs/log10_size_bins_matrix.zarr/',\n",
    "                            consolidated = True, mode = 'w')"
   ]
  },
  {
   "cell_type": "code",
   "execution_count": 44,
   "id": "16401e7c-a1be-4c2d-9ee5-a147c865ad5b",
   "metadata": {},
   "outputs": [
    {
     "data": {
      "text/plain": [
       "<xarray.backends.zarr.ZarrStore at 0x148403f92bc0>"
      ]
     },
     "execution_count": 44,
     "metadata": {},
     "output_type": "execute_result"
    }
   ],
   "source": [
    "effort_spinup.name = 'effort'\n",
    "effort_out = effort_spinup.chunk({'time': 120})\n",
    "effort_out.to_zarr(\n",
    "    os.path.join(out_folder, 'effort_spinup_15arcmin_fao-58_monthly_1841_1960.zarr/'),\n",
    "                   consolidated = True, mode = 'w')\n",
    "\n",
    "effort.name = 'effort'\n",
    "effort_out = effort.chunk({'time': 120})\n",
    "effort_out.to_zarr(\n",
    "    os.path.join(out_folder, 'effort_15arcmin_fao-58_monthly_1961_2010.zarr/'),\n",
    "                   consolidated = True, mode = 'w')"
   ]
  },
  {
   "cell_type": "code",
   "execution_count": 45,
   "id": "13cb7594-9382-41b4-a25a-3d3f88581db0",
   "metadata": {},
   "outputs": [
    {
     "data": {
      "text/plain": [
       "<xarray.backends.zarr.ZarrStore at 0x1483cdfa7840>"
      ]
     },
     "execution_count": 45,
     "metadata": {},
     "output_type": "execute_result"
    }
   ],
   "source": [
    "pref_benthos.name = 'pref_benthos'\n",
    "pref_benthos.to_zarr(os.path.join(out_folder, \n",
    "                                  'pref-benthos_15arcmin_fao-58_fixed.zarr/'),\n",
    "                     consolidated = True, mode = 'w')\n",
    "pref_pelagic.name = 'pref_pelagic'\n",
    "pref_pelagic.to_zarr(os.path.join(out_folder, \n",
    "                                  'pref-pelagic_15arcmin_fao-58_fixed.zarr/'), \n",
    "                     consolidated = True, mode = 'w')"
   ]
  },
  {
   "cell_type": "code",
   "execution_count": 46,
   "id": "c525838f-2081-412d-a641-ff6266af7257",
   "metadata": {},
   "outputs": [
    {
     "data": {
      "text/plain": [
       "<xarray.backends.zarr.ZarrStore at 0x148403f92ec0>"
      ]
     },
     "execution_count": 46,
     "metadata": {},
     "output_type": "execute_result"
    }
   ],
   "source": [
    "constant_growth.name = 'constant_growth'\n",
    "constant_growth.to_zarr(os.path.join(out_folder,\n",
    "                                     'const-growth_15arcmin_fao-58_fixed.zarr/'),\n",
    "                        consolidated = True, mode = 'w')\n",
    "\n",
    "constant_mortality.name = 'constant_mortality'\n",
    "constant_mortality.to_zarr(os.path.join(out_folder,\n",
    "                                     'const-mort_15arcmin_fao-58_fixed.zarr/'),\n",
    "                        consolidated = True, mode = 'w')"
   ]
  },
  {
   "cell_type": "code",
   "execution_count": 47,
   "id": "90cd8acf-aca0-428d-aaf7-545feb393278",
   "metadata": {},
   "outputs": [
    {
     "data": {
      "text/plain": [
       "<xarray.backends.zarr.ZarrStore at 0x1483ce6591c0>"
      ]
     },
     "execution_count": 47,
     "metadata": {},
     "output_type": "execute_result"
    }
   ],
   "source": [
    "consume_pelagic.name = 'consume_pelagic'\n",
    "consume_pelagic.to_zarr(os.path.join(out_folder,\n",
    "                                     'consume-pelagic_15arcmin_fao-58_fixed.zarr/'),\n",
    "                        consolidated = True, mode = 'w')\n",
    "\n",
    "consume_benthos.name = 'consume_benthos'\n",
    "consume_benthos.to_zarr(os.path.join(out_folder,\n",
    "                                     'consume-benthos_15arcmin_fao-58_fixed.zarr/'),\n",
    "                        consolidated = True, mode = 'w')"
   ]
  },
  {
   "cell_type": "markdown",
   "id": "bf167340-bb2d-4490-9202-a2ebc4e42871",
   "metadata": {},
   "source": [
    "Dividing predator data into decadal files before saving them."
   ]
  },
  {
   "cell_type": "code",
   "execution_count": 25,
   "id": "40760ef9-1e41-4d14-acd8-5417efd2a062",
   "metadata": {},
   "outputs": [],
   "source": [
    "predators_spinup.name = 'predators'\n",
    "\n",
    "yrs = predators_spinup.time.dt.year\n",
    "dec = ((yrs - yrs[0])/10).astype(int)\n",
    "\n",
    "predators_spinup = predators_spinup.assign_coords({'dec': dec})\n",
    "\n",
    "for i, da in predators_spinup.groupby('dec'):\n",
    "    ymin = str(da.time.dt.year.min().values)\n",
    "    ymax = str(da.time.dt.year.max().values)\n",
    "    da_out = da.drop_vars('dec')\n",
    "    da_out.to_zarr(\n",
    "        os.path.join(out_folder, \n",
    "                     f'predators_spinup_15arcmin_fao-58_monthly_{ymin}_{ymax}.zarr/'),\n",
    "        consolidated = True, mode = 'w')"
   ]
  },
  {
   "cell_type": "code",
   "execution_count": 46,
   "id": "00720867-c3a1-477e-aabb-b33ab16aa3f9",
   "metadata": {
    "scrolled": true
   },
   "outputs": [],
   "source": [
    "predators.name = 'predators'\n",
    "\n",
    "yrs = predators.time.dt.year\n",
    "dec = ((yrs - yrs[0])/10).astype(int)\n",
    "\n",
    "predators = predators.assign_coords({'dec': dec})\n",
    "\n",
    "for i, da in predators.groupby('dec'):\n",
    "    ymin = str(da.time.dt.year.min().values)\n",
    "    ymax = str(da.time.dt.year.max().values)\n",
    "    da_out = da.drop_vars('dec')\n",
    "    da_out.to_zarr(\n",
    "        os.path.join(out_folder, f'predators_15arcmin_fao-58_monthly_{ymin}_{ymax}.zarr/'),\n",
    "        consolidated = True, mode = 'w')"
   ]
  },
  {
   "cell_type": "code",
   "execution_count": 68,
   "id": "95f75cf0-f967-4b36-8750-e4ce46c54312",
   "metadata": {},
   "outputs": [
    {
     "data": {
      "text/plain": [
       "<xarray.backends.zarr.ZarrStore at 0x148317d23e40>"
      ]
     },
     "execution_count": 68,
     "metadata": {},
     "output_type": "execute_result"
    }
   ],
   "source": [
    "detritivores.name = 'detritivores'\n",
    "detritivores.to_zarr(os.path.join(out_folder, \n",
    "                                  'detritivores_15arcmin_fao-58_monthly_1961_2010.zarr/'),\n",
    "                     consolidated = True, mode = 'w')\n",
    "\n",
    "detritus.name = 'detritus'\n",
    "detritus.to_zarr(os.path.join(out_folder, \n",
    "                              'detritus_15arcmin_fao-58_monthly_1961_2010.zarr/'),\n",
    "                 consolidated = True, mode = 'w')"
   ]
  },
  {
   "cell_type": "code",
   "execution_count": 58,
   "id": "7f896dab-a5c4-4a77-80f3-128fefc768f8",
   "metadata": {
    "scrolled": true
   },
   "outputs": [
    {
     "data": {
      "text/plain": [
       "<xarray.backends.zarr.ZarrStore at 0x148317d22240>"
      ]
     },
     "execution_count": 58,
     "metadata": {},
     "output_type": "execute_result"
    }
   ],
   "source": [
    "fishing_mort_pred.name = 'fish_mort_pred'\n",
    "fishing_mort_pred.to_zarr(os.path.join(out_folder, \n",
    "                                       'fish-mort-pred_15arcmin_fao-58_monthly_1961_2010.zarr/'),\n",
    "                          consolidated = True, mode = 'w')\n",
    "\n",
    "fishing_mort_det.name = 'fish_mort_det'\n",
    "fishing_mort_det.to_zarr(os.path.join(\n",
    "    out_folder, 'fish-mort-det_15arcmin_fao-58_monthly_1961_2010.zarr/'),\n",
    "                         consolidated = True, mode = 'w')"
   ]
  },
  {
   "cell_type": "code",
   "execution_count": 72,
   "id": "5f73e319-7199-43d8-963f-8f70a2386147",
   "metadata": {},
   "outputs": [
    {
     "data": {
      "text/plain": [
       "<xarray.backends.zarr.ZarrStore at 0x148317d5a4c0>"
      ]
     },
     "execution_count": 72,
     "metadata": {},
     "output_type": "execute_result"
    }
   ],
   "source": [
    "pel_tempeffect_spinup.name = 'pel_temp_eff' \n",
    "pel_tempeffect_out = pel_tempeffect_spinup.chunk({'lat': 106, 'lon': 480})\n",
    "pel_tempeffect_out.to_zarr(\n",
    "    os.path.join(out_folder, \n",
    "                 'pel-temp-eff_spinup_15arcmin_fao-58_monthly_1841_1960.zarr/'),\n",
    "    consolidated = True, mode = 'w')\n",
    "\n",
    "pel_tempeffect.name = 'pel_temp_eff' \n",
    "pel_tempeffect_out = pel_tempeffect.chunk({'lat': 106, 'lon': 480})\n",
    "pel_tempeffect_out.to_zarr(\n",
    "    os.path.join(out_folder, 'pel-temp-eff_15arcmin_fao-58_monthly_1961_2010.zarr/'),\n",
    "    consolidated = True, mode = 'w')"
   ]
  },
  {
   "cell_type": "code",
   "execution_count": 75,
   "id": "6fb1dff9-99e7-4b1e-81bb-e7a44a5de2c4",
   "metadata": {},
   "outputs": [
    {
     "data": {
      "text/plain": [
       "<xarray.backends.zarr.ZarrStore at 0x148317d5b7c0>"
      ]
     },
     "execution_count": 75,
     "metadata": {},
     "output_type": "execute_result"
    }
   ],
   "source": [
    "ben_tempeffect_spinup.name = 'ben_temp_eff'\n",
    "ben_tempeffect_out = ben_tempeffect_spinup.chunk({'lat': 106, 'lon': 480})\n",
    "ben_tempeffect_out.to_zarr(\n",
    "    os.path.join(out_folder, \n",
    "                 'ben-temp-eff_spinup_15arcmin_fao-58_monthly_1841_1960.zarr/'),\n",
    "    consolidated = True, mode = 'w')\n",
    "\n",
    "ben_tempeffect.name = 'ben_temp_eff'\n",
    "ben_tempeffect_out = ben_tempeffect.chunk({'lat': 106, 'lon': 480})\n",
    "ben_tempeffect_out.to_zarr(\n",
    "    os.path.join(out_folder, 'ben-temp-eff_15arcmin_fao-58_monthly_1961_2010.zarr/'),\n",
    "    consolidated = True, mode = 'w')"
   ]
  }
 ],
 "metadata": {
  "kernelspec": {
   "display_name": "Python [conda env:analysis3-24.07]",
   "language": "python",
   "name": "conda-env-analysis3-24.07-py"
  },
  "language_info": {
   "codemirror_mode": {
    "name": "ipython",
    "version": 3
   },
   "file_extension": ".py",
   "mimetype": "text/x-python",
   "name": "python",
   "nbconvert_exporter": "python",
   "pygments_lexer": "ipython3",
   "version": "3.10.16"
  }
 },
 "nbformat": 4,
 "nbformat_minor": 5
}
