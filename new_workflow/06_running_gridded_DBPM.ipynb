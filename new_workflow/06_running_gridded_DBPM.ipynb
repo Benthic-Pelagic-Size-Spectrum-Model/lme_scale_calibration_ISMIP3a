{
 "cells": [
  {
   "cell_type": "markdown",
   "id": "2b0fc6a1-968c-467f-9a6c-5d15003d2364",
   "metadata": {},
   "source": [
    "# Running gridded DBPM run\n",
    "**Author**: Denisse Fierro Arcos  \n",
    "**Date**: 2025-01-13  \n",
    "\n",
    "Once all necessary inputs have been processed and fishing parameters calculated, we can finally run the gridded version of DBPM.  \n",
    "\n",
    "Note that the temporal range of DBPM inputs needs to be taken into account before running the model."
   ]
  },
  {
   "cell_type": "markdown",
   "id": "9f83d314-52dc-40d2-a95c-cac096a6a101",
   "metadata": {},
   "source": [
    "## Loading relevant libraries"
   ]
  },
  {
   "cell_type": "code",
   "execution_count": 2,
   "id": "deff782b-529b-4f09-86ba-020ad634a398",
   "metadata": {},
   "outputs": [],
   "source": [
    "import os\n",
    "os.chdir('/g/data/vf71/la6889/lme_scale_calibration_ISMIP3a/new_workflow/')\n",
    "from glob import glob\n",
    "import xarray as xr\n",
    "import useful_functions as uf\n",
    "from dask.distributed import Client"
   ]
  },
  {
   "cell_type": "markdown",
   "id": "b7bd8f5a-65ee-4ac2-b1f5-603eebe44715",
   "metadata": {},
   "source": [
    "## Start a cluster for parallelisation"
   ]
  },
  {
   "cell_type": "code",
   "execution_count": 2,
   "id": "8b17868f-906d-490c-b4ca-b5965141ec31",
   "metadata": {},
   "outputs": [],
   "source": [
    "client = Client(threads_per_worker = 1)"
   ]
  },
  {
   "cell_type": "markdown",
   "id": "363c2ac5-dd94-499f-a499-5d8fc23f27f5",
   "metadata": {},
   "source": [
    "## Defining basic variables to run gridded DBPM"
   ]
  },
  {
   "cell_type": "code",
   "execution_count": 4,
   "id": "771407fd-01ca-43e2-9cba-fd1e58d0835f",
   "metadata": {},
   "outputs": [],
   "source": [
    "#Name of region and model resolution\n",
    "region = 'fao-88'\n",
    "model_res = '025deg'\n",
    "\n",
    "#Defining input and output folders\n",
    "base_folder = '/g/data/vf71/la6889/dbpm_inputs/west_antarctica/'\n",
    "gridded_folder = os.path.join(base_folder, 'gridded_params', model_res)\n",
    "out_folder = os.path.join(base_folder, 'run_fishing', model_res)\n",
    "#If output folder does not exist, it will create it\n",
    "os.makedirs(out_folder, exist_ok = True) "
   ]
  },
  {
   "cell_type": "markdown",
   "id": "2507935e-32cf-40bb-b68e-60982b9d6739",
   "metadata": {},
   "source": [
    "## Loading fixed DBPM parameters "
   ]
  },
  {
   "cell_type": "code",
   "execution_count": 3,
   "id": "01f5e881-ab0c-47e4-a369-7169a0a1a836",
   "metadata": {},
   "outputs": [],
   "source": [
    "depth = xr.open_zarr(glob(os.path.join(base_folder, 'gridded',\n",
    "                                       model_res, '*obsclim_deptho_*'))[0])['deptho']\n",
    "log10_size_bins_mat = xr.open_zarr('outputs/log10_size_bins_matrix.zarr/')['size_bins']"
   ]
  },
  {
   "cell_type": "markdown",
   "id": "134d0b5a-808f-4700-80b3-0cdd8ffc023d",
   "metadata": {},
   "source": [
    "## Loading DBPM initialisation variables\n",
    "These variables include biomass for `predators` and `detritivores`, as well as `detritus`. The timestamp in all these variables should be for one month before DBPM starts."
   ]
  },
  {
   "cell_type": "markdown",
   "id": "4ebbb851-623b-4953-902b-1d4d24054254",
   "metadata": {},
   "source": [
    "### Option 1: If running the model for the first time\n",
    "To initialise DBPM, you wil need to load the data produced in [05_setup_gridded_DBPM](new_workflow/05_setup_gridded_DBPM.ipynb)."
   ]
  },
  {
   "cell_type": "code",
   "execution_count": 8,
   "id": "eadba327-1284-4ea8-9d6c-fa2bd66b23d9",
   "metadata": {},
   "outputs": [],
   "source": [
    "predators = xr.open_zarr(glob(\n",
    "    os.path.join(gridded_folder, 'predators_*'))[0])['predators'] \n",
    "detritivores = xr.open_zarr(glob(\n",
    "    os.path.join(gridded_folder, 'detritivores_*'))[0])['detritivores']\n",
    "detritus = xr.open_zarr(glob(\n",
    "    os.path.join(gridded_folder, 'detritus_*'))[0])['detritus']"
   ]
  },
  {
   "cell_type": "markdown",
   "id": "0dcc28b4-b80a-49b4-bc1a-738bd368aec4",
   "metadata": {},
   "source": [
    "### Option 2: If running the model at specific time step\n",
    "If you have already run DBPM and would like to continue running the model from a specific time step, you will need to load data for `predators`, `detritivores`, and `detritus` for the month before DBPM is to be restarted from.  \n",
    "\n",
    "For example, if you want to restart DBPM from `1900-01`, then the `predators`, `detritivores`, and `detritus` data should be from `1899-12` needs to be loaded. Note that these data should be in the `out_folder` as they should be have produced by a previous DBPM run."
   ]
  },
  {
   "cell_type": "code",
   "execution_count": 7,
   "id": "0f225362-358f-4692-a4ec-143c93c82eb4",
   "metadata": {},
   "outputs": [],
   "source": [
    "#Year and month before DBPM will be restarted\n",
    "init_time = '1899-12'\n",
    "\n",
    "#Loading data\n",
    "predators = xr.open_dataarray(glob(\n",
    "    os.path.join(out_folder, f'predators_*_{init_time}.nc'))[0])\n",
    "detritivores = xr.open_dataarray(glob(\n",
    "    os.path.join(out_folder, f'detritivores_*_{init_time}.nc'))[0])\n",
    "detritus = xr.open_dataarray(glob(\n",
    "    os.path.join(out_folder, f'detritus_*_{init_time}.nc'))[0])"
   ]
  },
  {
   "cell_type": "markdown",
   "id": "3a0b71f8-083c-45e6-beac-9defcf89f925",
   "metadata": {},
   "source": [
    "## Loading dynamic variables\n",
    "These refer to all variables that change along the time dimension."
   ]
  },
  {
   "cell_type": "code",
   "execution_count": 9,
   "id": "a4a6c5c0-5bc1-425f-a55b-ebd0091db5ce",
   "metadata": {},
   "outputs": [],
   "source": [
    "#Intercept plankton size spectrum\n",
    "ui0 = xr.open_zarr(glob(os.path.join(gridded_folder, 'ui0_spinup*'))[0])['ui0']\n",
    "\n",
    "#Slope plankton size spectrum\n",
    "slope = xr.open_zarr(glob(\n",
    "    os.path.join(base_folder, 'gridded', model_res, '*spinup_slope_*'))[0])['slope']\n",
    "\n",
    "#Temperature effects\n",
    "pel_tempeffect = xr.open_zarr(glob(\n",
    "    os.path.join(gridded_folder, 'pel-temp-eff_spinup*'))[0])['pel_temp_eff']\n",
    "\n",
    "ben_tempeffect = xr.open_zarr(glob(\n",
    "    os.path.join(gridded_folder, 'ben-temp-eff_spinup*'))[0])['ben_temp_eff']\n",
    "\n",
    "#Sinking rate\n",
    "sinking_rate = xr.open_zarr(\n",
    "    glob(os.path.join(base_folder, 'gridded', model_res, \n",
    "                      '*_spinup_er_*'))[0])['export_ratio']\n",
    "\n",
    "# Loading effort\n",
    "effort = xr.open_zarr(glob(os.path.join(gridded_folder, \n",
    "                                        'effort_spinup*'))[0])['effort']"
   ]
  },
  {
   "cell_type": "markdown",
   "id": "ef8c2d78-efb7-4db9-b79e-b5c23ac6c071",
   "metadata": {},
   "source": [
    "### Optional: If running the model at specific time step\n",
    "As above, if DBPM needs to be restarted from a specific timestep, then data for dynamic variables need to be subsetted so the first time included is the same as the timestep that DBPM is being started from."
   ]
  },
  {
   "cell_type": "code",
   "execution_count": 7,
   "id": "0d42acbc-cafb-4fea-867a-e440f7edd6ba",
   "metadata": {},
   "outputs": [],
   "source": [
    "subset_date = '1900-01'\n",
    "ui0 = ui0.sel(time = slice(subset_date, None))\n",
    "slope = slope.sel(time = slice(subset_date, None))\n",
    "pel_tempeffect = pel_tempeffect.sel(time = slice(subset_date, None))\n",
    "ben_tempeffect = ben_tempeffect.sel(time = slice(subset_date, None))\n",
    "sinking_rate = sinking_rate.sel(time = slice(subset_date, None))"
   ]
  },
  {
   "cell_type": "markdown",
   "id": "95cb41ec-215a-49e4-849b-8169a7613e11",
   "metadata": {},
   "source": [
    "Note `effort` needs additional processing when restarting from a specific date."
   ]
  },
  {
   "cell_type": "code",
   "execution_count": null,
   "id": "113baa5e-9455-4cc0-bfb3-a1c86cb05115",
   "metadata": {},
   "outputs": [],
   "source": [
    "#Load effort for time step DBPM starts\n",
    "e_start = xr.open_dataarray(glob(os.path.join(out_folder, \n",
    "                                              f'effort_*_{subset_date}.nc'))[0])\n",
    "#Subset effort data from the timestep after DBPM restart \n",
    "effort = effort.sel(time = slice('1900-02', None))\n",
    "#Combine both data arrays\n",
    "effort = xr.concat([e_start, effort], dim = 'time')"
   ]
  },
  {
   "cell_type": "markdown",
   "id": "53920e6f-d3bd-4b7a-821e-173864e83d39",
   "metadata": {},
   "source": [
    "## Running gridded DBPM\n",
    "Note that this may take several hours depending on computing resources, as well as the temporal and spatial range of the modelled area."
   ]
  },
  {
   "cell_type": "code",
   "execution_count": 13,
   "id": "a474be3e-f21d-4020-86b7-3b82ac17031b",
   "metadata": {},
   "outputs": [
    {
     "name": "stderr",
     "output_type": "stream",
     "text": [
      "/g/data/hh5/public/apps/miniconda3/envs/analysis3-24.07/lib/python3.10/site-packages/dask/_task_spec.py:740: RuntimeWarning: invalid value encountered in divide\n",
      "  return self.func(*new_argspec)\n",
      "/g/data/hh5/public/apps/miniconda3/envs/analysis3-24.07/lib/python3.10/site-packages/dask/_task_spec.py:740: RuntimeWarning: invalid value encountered in divide\n",
      "  return self.func(*new_argspec)\n",
      "/g/data/hh5/public/apps/miniconda3/envs/analysis3-24.07/lib/python3.10/site-packages/dask/_task_spec.py:740: RuntimeWarning: invalid value encountered in divide\n",
      "  return self.func(*new_argspec)\n",
      "/g/data/hh5/public/apps/miniconda3/envs/analysis3-24.07/lib/python3.10/site-packages/dask/_task_spec.py:740: RuntimeWarning: invalid value encountered in divide\n",
      "  return self.func(*new_argspec)\n",
      "/g/data/hh5/public/apps/miniconda3/envs/analysis3-24.07/lib/python3.10/site-packages/dask/_task_spec.py:740: RuntimeWarning: invalid value encountered in divide\n",
      "  return self.func(*new_argspec)\n",
      "/g/data/hh5/public/apps/miniconda3/envs/analysis3-24.07/lib/python3.10/site-packages/dask/_task_spec.py:740: RuntimeWarning: invalid value encountered in divide\n",
      "  return self.func(*new_argspec)\n",
      "/g/data/hh5/public/apps/miniconda3/envs/analysis3-24.07/lib/python3.10/site-packages/dask/_task_spec.py:740: RuntimeWarning: invalid value encountered in divide\n",
      "  return self.func(*new_argspec)\n",
      "/g/data/hh5/public/apps/miniconda3/envs/analysis3-24.07/lib/python3.10/site-packages/dask/_task_spec.py:740: RuntimeWarning: invalid value encountered in divide\n",
      "  return self.func(*new_argspec)\n",
      "/g/data/hh5/public/apps/miniconda3/envs/analysis3-24.07/lib/python3.10/site-packages/dask/_task_spec.py:740: RuntimeWarning: invalid value encountered in divide\n",
      "  return self.func(*new_argspec)\n",
      "/g/data/hh5/public/apps/miniconda3/envs/analysis3-24.07/lib/python3.10/site-packages/dask/_task_spec.py:740: RuntimeWarning: invalid value encountered in divide\n",
      "  return self.func(*new_argspec)\n",
      "/g/data/hh5/public/apps/miniconda3/envs/analysis3-24.07/lib/python3.10/site-packages/dask/_task_spec.py:740: RuntimeWarning: invalid value encountered in divide\n",
      "  return self.func(*new_argspec)\n",
      "/g/data/hh5/public/apps/miniconda3/envs/analysis3-24.07/lib/python3.10/site-packages/dask/_task_spec.py:740: RuntimeWarning: invalid value encountered in divide\n",
      "  return self.func(*new_argspec)\n",
      "/g/data/hh5/public/apps/miniconda3/envs/analysis3-24.07/lib/python3.10/site-packages/dask/_task_spec.py:740: RuntimeWarning: invalid value encountered in divide\n",
      "  return self.func(*new_argspec)\n",
      "/g/data/hh5/public/apps/miniconda3/envs/analysis3-24.07/lib/python3.10/site-packages/dask/_task_spec.py:740: RuntimeWarning: invalid value encountered in divide\n",
      "  return self.func(*new_argspec)\n",
      "/g/data/hh5/public/apps/miniconda3/envs/analysis3-24.07/lib/python3.10/site-packages/dask/_task_spec.py:740: RuntimeWarning: invalid value encountered in divide\n",
      "  return self.func(*new_argspec)\n",
      "/g/data/hh5/public/apps/miniconda3/envs/analysis3-24.07/lib/python3.10/site-packages/dask/_task_spec.py:740: RuntimeWarning: invalid value encountered in divide\n",
      "  return self.func(*new_argspec)\n",
      "/g/data/hh5/public/apps/miniconda3/envs/analysis3-24.07/lib/python3.10/site-packages/dask/_task_spec.py:740: RuntimeWarning: invalid value encountered in divide\n",
      "  return self.func(*new_argspec)\n",
      "/g/data/hh5/public/apps/miniconda3/envs/analysis3-24.07/lib/python3.10/site-packages/dask/_task_spec.py:740: RuntimeWarning: invalid value encountered in divide\n",
      "  return self.func(*new_argspec)\n",
      "/g/data/hh5/public/apps/miniconda3/envs/analysis3-24.07/lib/python3.10/site-packages/dask/_task_spec.py:740: RuntimeWarning: invalid value encountered in divide\n",
      "  return self.func(*new_argspec)\n"
     ]
    }
   ],
   "source": [
    "uf.gridded_sizemodel(gridded_folder, predators, detritivores, detritus, pel_tempeffect, \n",
    "                     ben_tempeffect, effort, ui0, sinking_rate, slope, depth, \n",
    "                     log10_size_bins_mat, region = region, model_res = model_res, \n",
    "                     out_folder = out_folder)"
   ]
  },
  {
   "cell_type": "markdown",
   "id": "c08289a1-c69e-4565-b4cf-d7a31db2b78a",
   "metadata": {},
   "source": [
    "## Outside time loop"
   ]
  },
  {
   "cell_type": "markdown",
   "id": "efcd886c-29f0-4008-9e63-07d99e6a8279",
   "metadata": {},
   "source": [
    "### Fisheries catches per year per size class\n",
    "`fishing_mort_pred` and `fishing_mort_det` are set to zero outside the sizes for each class, so there is no need to apply a mask here."
   ]
  },
  {
   "cell_type": "code",
   "execution_count": 356,
   "id": "e54340d9-e8e4-45e8-bafc-7a3c15610c25",
   "metadata": {},
   "outputs": [],
   "source": [
    "catch_pred = fishing_mort_pred*predators*size_bin_vals\n",
    "catch_det = fishing_mort_det*detritivores*size_bin_vals"
   ]
  }
 ],
 "metadata": {
  "kernelspec": {
   "display_name": "Python [conda env:analysis3-24.07]",
   "language": "python",
   "name": "conda-env-analysis3-24.07-py"
  },
  "language_info": {
   "codemirror_mode": {
    "name": "ipython",
    "version": 3
   },
   "file_extension": ".py",
   "mimetype": "text/x-python",
   "name": "python",
   "nbconvert_exporter": "python",
   "pygments_lexer": "ipython3",
   "version": "3.10.16"
  }
 },
 "nbformat": 4,
 "nbformat_minor": 5
}
