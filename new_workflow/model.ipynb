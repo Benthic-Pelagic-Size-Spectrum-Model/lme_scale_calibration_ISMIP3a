{
 "cells": [
  {
   "cell_type": "code",
   "execution_count": 1,
   "id": "deff782b-529b-4f09-86ba-020ad634a398",
   "metadata": {},
   "outputs": [],
   "source": [
    "# from glob import glob\n",
    "# import datetime as dt\n",
    "import os\n",
    "os.chdir('/g/data/vf71/la6889/lme_scale_calibration_ISMIP3a/new_workflow/')"
   ]
  },
  {
   "cell_type": "code",
   "execution_count": 2,
   "id": "e74384c2-f17a-412c-bcc6-82e00542f127",
   "metadata": {},
   "outputs": [],
   "source": [
    "import xarray as xr\n",
    "import json\n",
    "import pandas as pd\n",
    "import numpy as np\n",
    "from pandas.tseries.offsets import DateOffset\n",
    "import useful_functions as uf"
   ]
  },
  {
   "cell_type": "code",
   "execution_count": 141,
   "id": "7e11ae6f-1e6b-46d8-9f5a-9e17163b3541",
   "metadata": {},
   "outputs": [],
   "source": [
    "params = json.load(open(\n",
    "    os.path.join('/g/data/vf71/la6889/lme_scale_calibration_ISMIP3a/new_workflow',\n",
    "                 'outputs/dbpm_size_params.json')))"
   ]
  },
  {
   "cell_type": "code",
   "execution_count": 4,
   "id": "13e7d36a-8695-4917-bc3b-4f7e2a8e9296",
   "metadata": {},
   "outputs": [],
   "source": [
    "dbpm_input = pd.read_parquet(\n",
    "    os.path.join('/g/data/vf71/la6889/dbpm_inputs/east_antarctica/monthly_weighted',\n",
    "                 'dbpm_clim-fish-inputs_fao-58_1841-2010.parquet'))"
   ]
  },
  {
   "cell_type": "markdown",
   "id": "71901ab6-febb-4934-9138-dacf7b737f62",
   "metadata": {},
   "source": [
    "## Parameters from `sizemodel` function"
   ]
  },
  {
   "cell_type": "code",
   "execution_count": 29,
   "id": "b1172bf2-584c-4b9a-83b6-44d847c7eedc",
   "metadata": {},
   "outputs": [],
   "source": [
    "ERSEM_det_input = False\n",
    "temp_effect = True\n",
    "use_init = False"
   ]
  },
  {
   "cell_type": "code",
   "execution_count": 5,
   "id": "fd05b8b1-d357-453f-8b62-b8235eaadf6b",
   "metadata": {},
   "outputs": [],
   "source": [
    "# Input parameters to vary:\n",
    "# time series of intercept of plankton size spectrum (estimated from GCM, \n",
    "# biogeophysical model output or satellite data).\t\t\n",
    "ui0 = 10**np.array(params['int_phy_zoo'])\n",
    "[numb_size_bins] = params['numb_size_bins']\n",
    "#Size bin index\n",
    "size_bin_index = np.arange(0, numb_size_bins)\n",
    "#Size bins\n",
    "log10_size_bins = np.array(params['log10_size_bins'])\n",
    "size_bin_vals = 10**log10_size_bins\n",
    "[log10_pred_prey_ratio] = params['log10_pred_prey_ratio']\n",
    "[log_prey_pref] = params['log_prey_pref']\n",
    "[metabolic_req_pred] = params['metabolic_req_pred']\n",
    "#Index for minimum detritivore size\n",
    "[ind_min_detritivore_size] = params['ind_min_detritivore_size']\n",
    "#Index for minimum predator size\n",
    "[ind_min_pred_size] = params['ind_min_pred_size']\n",
    "#Index for minimum size of detritivore fished\n",
    "[ind_min_fish_det] = params['ind_min_fish_det']\n",
    "#Index for minimum size of predator fished\n",
    "[ind_min_fish_pred] = params['ind_min_fish_pred']\n",
    "#Time\n",
    "time = pd.date_range(start = min(dbpm_input.time)-DateOffset(months = 1),\n",
    "                     end = max(dbpm_input.time), freq = 'MS')"
   ]
  },
  {
   "cell_type": "markdown",
   "id": "723fdeb9-2a0d-4909-8d15-c73adb335761",
   "metadata": {},
   "source": [
    "# Initialising variables to store DBPM outputs"
   ]
  },
  {
   "cell_type": "code",
   "execution_count": 78,
   "id": "d5d3a15c-f617-487d-b83e-5c0557a5e8b4",
   "metadata": {},
   "outputs": [],
   "source": [
    "#data arrays for recording the two size spectra (V - det, U - pred)\n",
    "predators = uf.init_da(log10_size_bins, time)\n",
    "detritivores = uf.init_da(log10_size_bins, time)\n",
    "\n",
    "#vector to hold detritus biomass density (g.m-2)\n",
    "detritus = np.zeros(len(time))\n",
    "\n",
    "#data arrays for keeping track of growth (GG_v, GG_u) and reproduction (R_v, R_u) \n",
    "#from ingested food:\n",
    "reprod_det = uf.init_da(log10_size_bins, time)\n",
    "reprod_pred = uf.init_da(log10_size_bins, time)\n",
    "growth_det = uf.init_da(log10_size_bins, time)\n",
    "growth_int_pred = uf.init_da(log10_size_bins, time)\n",
    "\n",
    "#data arrays for keeping track of predation mortality (PM_v, PM_u)\n",
    "pred_mort_det = uf.init_da(log10_size_bins, time)\n",
    "pred_mort_pred = uf.init_da(log10_size_bins, time)\n",
    "\n",
    "#data arrays for keeping track of catches (Y_v, Y_u)\n",
    "catch_det = uf.init_da(log10_size_bins, time)\n",
    "catch_pred = uf.init_da(log10_size_bins, time)\n",
    "\n",
    "#data arrays for keeping track of total mortality (Z_v, Z_u)\n",
    "tot_mort_det = uf.init_da(log10_size_bins, time)\n",
    "tot_mort_pred = uf.init_da(log10_size_bins, time)\n",
    "\n",
    "#data arrays to hold fishing mortality rates at each size class at time \n",
    "#(Fvec_v, Fvec_u)\n",
    "fishing_mort_det = uf.init_da(log10_size_bins, time)\n",
    "fishing_mort_pred = uf.init_da(log10_size_bins, time)\n",
    "\n",
    "#data arrays for keeping track of senescence mortality (SM_v, SM_u) and other \n",
    "#(intrinsic) mortality (OM_v, OM_u)\n",
    "senes_mort_det = np.zeros(len(log10_size_bins))\n",
    "senes_mort_pred = np.zeros(len(log10_size_bins))\n",
    "other_mort_det = np.zeros(len(log10_size_bins))\n",
    "other_mort_pred = np.zeros(len(log10_size_bins))"
   ]
  },
  {
   "cell_type": "markdown",
   "id": "45071680-fb12-43e7-83ef-ea379aece4c5",
   "metadata": {},
   "source": [
    "# Building lookup tables"
   ]
  },
  {
   "cell_type": "code",
   "execution_count": 7,
   "id": "13ad4f74-a92d-499c-82df-478f3c180858",
   "metadata": {},
   "outputs": [],
   "source": [
    "#lookup tables for terms in the integrals which remain constant over time (gphi, mphi)\n",
    "constant_growth = uf.gphi_f(uf.pred_prey_matrix(log10_size_bins), log10_pred_prey_ratio, \n",
    "                            log_prey_pref)\n",
    "constant_mortality = uf.mphi_f(-uf.pred_prey_matrix(log10_size_bins), log10_pred_prey_ratio, \n",
    "                               log_prey_pref, metabolic_req_pred)\n",
    "\n",
    "#lookup table for components of 10^(metabolic_req_pred*log10_size_bins) (expax)\n",
    "met_req_log10_size_bins = uf.expax_f(log10_size_bins, metabolic_req_pred)"
   ]
  },
  {
   "cell_type": "markdown",
   "id": "f57ecc1e-44e0-42a0-8331-283c401d9ef2",
   "metadata": {},
   "source": [
    "# Numerical integration"
   ]
  },
  {
   "cell_type": "code",
   "execution_count": 89,
   "id": "93197d82-12e3-46e7-b958-c6ccac4204ff",
   "metadata": {},
   "outputs": [],
   "source": [
    "# set up with the initial values from param - same for all grid cells\n",
    "#(phyto+zoo)plankton size spectrum (U) \n",
    "predators.isel(size_class = slice(None, 120)).loc[{'time': predators.time.min()}] = \\\n",
    "params['plank_pred_sizes'][:120]\n",
    "\n",
    "# set initial detritivore spectrum (V)\n",
    "detritivores.isel(size_class = slice((ind_min_detritivore_size-1), 120)).\\\n",
    "loc[{'time': detritivores.time.min()}] = \\\n",
    "np.array(params['detritivore_sizes'])[ind_min_detritivore_size-1:120]\n",
    "\n",
    "# set initial detritus biomass density (g.m^-3) (W)\n",
    "[detritus[0]] = params['init_detritus']"
   ]
  },
  {
   "cell_type": "code",
   "execution_count": 43,
   "id": "8022ae5e-3a60-425f-a845-536cac8b826b",
   "metadata": {},
   "outputs": [],
   "source": [
    "if use_init:\n",
    "    # set up with the initial values from previous run\n",
    "    predators.isel(size_class = slice((ind_min_pred_size-1), None)).\\\n",
    "    loc[{'time': predators.time.min()}] = \\\n",
    "    params['plank_pred_sizes'][(ind_min_pred_size-1):]\n",
    "    \n",
    "    # set initial detritivore spectrum from previous run\n",
    "    detritivores.isel(size_class = slice((ind_min_detritivore_size-1), None)).\\\n",
    "    loc[{'time': detritivores.time.min()}] = \\\n",
    "    np.array(params['detritivore_sizes'])[(ind_min_detritivore_size-1):]"
   ]
  },
  {
   "cell_type": "code",
   "execution_count": 57,
   "id": "f153e8ed-d012-4e14-8368-f707228e1560",
   "metadata": {},
   "outputs": [],
   "source": [
    "#intrinsic natural mortality (OM.u, OM.v)\n",
    "other_mort_det = params['natural_mort']*10**(-0.25*log10_size_bins)\n",
    "other_mort_pred = params['natural_mort']*10**(-0.25*log10_size_bins)\n",
    "\n",
    "#senescence mortality rate to limit large fish from building up in the system\n",
    "#same function as in Law et al 2008, with chosen parameters gives similar M2 values\n",
    "#as in Hall et al. 2006 (SM.u, SM.v)\n",
    "senes_mort_det = (params['const_senescence_mort']*\n",
    "                  10**(params['exp_senescence_mort']*\n",
    "                       (log10_size_bins - params['size_senescence'])))\n",
    "\n",
    "senes_mort_pred = (params['const_senescence_mort']*\n",
    "                  10**(params['exp_senescence_mort']*\n",
    "                       (log10_size_bins - params['size_senescence'])))"
   ]
  },
  {
   "cell_type": "markdown",
   "id": "ff608ae8-b355-41ff-8a38-eb0181945733",
   "metadata": {},
   "source": [
    "## Fishing mortality (FVec.u, FVec.v)\n",
    "From Benoit & Rochet 2004. Here `fish_mort_pred` and `fish_mort_pred` equal fixed catchability term for predators and detritivores. To be estimated along with `ind_min_det` and `ind_min_fish_pred`"
   ]
  },
  {
   "cell_type": "code",
   "execution_count": 117,
   "id": "a46c1cab-0433-442d-80a4-00584ebe8499",
   "metadata": {},
   "outputs": [],
   "source": [
    "fishing_mort_pred.isel(size_class = slice(int(ind_min_fish_pred-1), -1)).\\\n",
    "loc[{'time': fishing_mort_pred.time.min()}] = (params['fish_mort_pred']*\n",
    "                                               np.array(params['effort'][0]))\n",
    "\n",
    "fishing_mort_det.isel(size_class = slice(int(ind_min_fish_det-1), -1)).\\\n",
    "loc[{'time': fishing_mort_det.time.min()}] = (params['fish_mort_detritivore']*\n",
    "                                              np.array(params['effort'][0]))"
   ]
  },
  {
   "cell_type": "code",
   "execution_count": 125,
   "id": "0dfe437e-e3e2-4c92-a31c-5bde47b1a34c",
   "metadata": {},
   "outputs": [],
   "source": [
    "#output fisheries catches per yr at size - predators (Y_u)\n",
    "catch_pred.isel(size_class = slice(int(ind_min_fish_pred-1), -1)).\\\n",
    "loc[{'time': catch_pred.time.min()}] = \\\n",
    "(fishing_mort_pred.isel(size_class = slice(int(ind_min_fish_pred-1), -1)).\n",
    " loc[{'time': fishing_mort_pred.time.min()}]*\n",
    " predators.isel(size_class = slice(int(ind_min_fish_pred-1), -1)).\n",
    " loc[{'time': predators.time.min()}]*size_bin_vals[int(ind_min_fish_pred-1): -1])\n",
    "\n",
    "#output fisheries catches per yr at size - detritivores (Y_v)\n",
    "catch_det.isel(size_class = slice(int(ind_min_fish_det-1), -1)).\\\n",
    "loc[{'time': catch_pred.time.min()}] = \\\n",
    "(fishing_mort_det.isel(size_class = slice(int(ind_min_fish_det-1), -1)).\n",
    " loc[{'time': fishing_mort_pred.time.min()}]*\n",
    " detritivores.isel(size_class = slice(int(ind_min_fish_det-1), -1)).\n",
    " loc[{'time': predators.time.min()}]*size_bin_vals[int(ind_min_fish_det-1): -1])"
   ]
  },
  {
   "cell_type": "code",
   "execution_count": 157,
   "id": "2898ec8c-fd3d-4bc4-8649-c1285eed63d2",
   "metadata": {},
   "outputs": [],
   "source": [
    "if temp_effect:\n",
    "    pel_tempeffect = np.exp(params['c1']-params['activation_energy']/\n",
    "                            (params['boltzmann']*(np.array(params['sea_surf_temp'])+273)))\n",
    "    ben_tempeffect = np.exp(params['c1']-params['activation_energy']/\n",
    "                            (params['boltzmann']*(np.array(params['sea_floor_temp'])+273)))\n",
    "else:\n",
    "    pel_tempeffect = 1\n",
    "    ben_tempeffect = 1"
   ]
  },
  {
   "cell_type": "code",
   "execution_count": 159,
   "id": "bfb0e578-65a3-4c2d-b252-b21e79463aa2",
   "metadata": {},
   "outputs": [
    {
     "data": {
      "text/plain": [
       "416.1480922370438"
      ]
     },
     "execution_count": 159,
     "metadata": {},
     "output_type": "execute_result"
    }
   ],
   "source": [
    "# ds.isel(time = 0)  lme_input$depth_m\n",
    "# [ind_min_fish_det] = params['ind_min_fish_det']\n",
    "# ind_min_fish_det\n",
    "sum(ben_tempeffect)"
   ]
  }
 ],
 "metadata": {
  "kernelspec": {
   "display_name": "Python [conda env:analysis3-24.07]",
   "language": "python",
   "name": "conda-env-analysis3-24.07-py"
  },
  "language_info": {
   "codemirror_mode": {
    "name": "ipython",
    "version": 3
   },
   "file_extension": ".py",
   "mimetype": "text/x-python",
   "name": "python",
   "nbconvert_exporter": "python",
   "pygments_lexer": "ipython3",
   "version": "3.10.14"
  }
 },
 "nbformat": 4,
 "nbformat_minor": 5
}
