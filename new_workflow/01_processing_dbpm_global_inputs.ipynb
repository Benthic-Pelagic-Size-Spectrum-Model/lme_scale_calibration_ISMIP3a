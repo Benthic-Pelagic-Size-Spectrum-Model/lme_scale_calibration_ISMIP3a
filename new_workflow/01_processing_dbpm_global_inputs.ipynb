{
 "cells": [
  {
   "cell_type": "markdown",
   "id": "837866b4-cce9-44f0-9caa-9df828d13b75",
   "metadata": {},
   "source": [
    "# Processing inputs for the Dynamic Benthic Pelagic Model (DBPM)\n",
    "**Author:** Denisse Fierro Arcos  \n",
    "**Date:** 2024-10-10  \n",
    "  \n",
    "We will use GFDL-MOM6-COBALT2 (referred to as GFDL from now on) outputs at two horizontal resolutions: 0.25$^{\\circ}$ (original grid) and 1$^{\\circ}$ (coarsen from original grid) to force the Dynamic Benthic Pelagic Model (DBPM).  \n",
    "\n",
    "DBPM requires the seven inputs, some of which are directly available as outputs in GFDL, while others need to be calculated from available GFDL outputs:  \n",
    "- depth (`deptho` in GFDL)  \n",
    "- small phytoplankton (`phypico-vint` or mole concentration of picoplankton expressed as carbon in sea water in GFDL)  \n",
    "- large phytoplankton: This variable is not directly available in GFDL, but it can be calculated by substracting small phytoplankton (`phypico-vint` in GFDL) from total phytoplankton (`phyc-vint` or phytoplankton carbon concentration in GFDL)  \n",
    "- sea surface temperature (`tos` in GFDL)  \n",
    "- bottom ocean temperature (`tob` in GFDL)  \n",
    "- detritus (`expc-bot` or downward flux of particulate organic carbon in GFDL)\n",
    "- export ratio: This variable is estimated from small phytoplankton, large phytoplankton, sea surface temperature and depth using the `getExportRatio` function  \n",
    "\n",
    "Finally, we will create a spinup using the first 20 years of data available in the `ctrlclim` outputs. We will repeat data for this period six times for a spinup period of 120 years.  \n",
    "  \n",
    "All variables will be processed at a global scale and they will be stored in `zarr` format so they can be easily accessed when running DBPM.  "
   ]
  },
  {
   "cell_type": "markdown",
   "id": "db4cbe27-6737-412a-9926-d3b8da7f6fc7",
   "metadata": {},
   "source": [
    "## Loading relevant libraries"
   ]
  },
  {
   "cell_type": "code",
   "execution_count": 1,
   "id": "caa6c99b-5f02-4986-93fe-744d03d50110",
   "metadata": {},
   "outputs": [],
   "source": [
    "import os\n",
    "os.chdir('/g/data/vf71/la6889/lme_scale_calibration_ISMIP3a/new_workflow/')"
   ]
  },
  {
   "cell_type": "code",
   "execution_count": 2,
   "id": "bd4d9e37-6ae2-4ddc-a91b-9b1769645f38",
   "metadata": {},
   "outputs": [],
   "source": [
    "import xarray as xr\n",
    "import pandas as pd\n",
    "import numpy as np\n",
    "from glob import glob\n",
    "from dask.distributed import Client\n",
    "import useful_functions as uf"
   ]
  },
  {
   "cell_type": "markdown",
   "id": "7082b151-a0b3-4ca7-9330-0eb283244c44",
   "metadata": {},
   "source": [
    "## Start a cluster"
   ]
  },
  {
   "cell_type": "code",
   "execution_count": null,
   "id": "85b93bf5-48e2-4acc-9e9c-8c0d81217b9c",
   "metadata": {},
   "outputs": [],
   "source": [
    "client = Client(threads_per_worker = 1)\n",
    "client"
   ]
  },
  {
   "cell_type": "markdown",
   "id": "9320df82-c7c6-4534-a697-4c2a01bd9a64",
   "metadata": {},
   "source": [
    "## Load relevant GFDL-MOM6-COBALT2 outputs"
   ]
  },
  {
   "cell_type": "code",
   "execution_count": 3,
   "id": "827b2048-7f58-4947-85b7-a6bbf145905c",
   "metadata": {},
   "outputs": [],
   "source": [
    "#Base folder where GFDL outputs are stored - obsclim and ctrlclim\n",
    "gfdl_obsclim = '/g/data/vf71/fishmip_inputs/ISIMIP3a/global_inputs/obsclim/025deg'\n",
    "gfdl_ctrlclim = '/g/data/vf71/fishmip_inputs/ISIMIP3a/global_inputs/ctrlclim/025deg'\n",
    "#Variables of interest\n",
    "dbpm_var = ['deptho', 'expc-bot', 'phyc-vint', 'phypico-vint', 'tob', 'tos']\n",
    "#List of relevant files\n",
    "gfdl_obs_files = [glob(os.path.join(gfdl_obsclim, f'*_{var}_*'))[0] for var in dbpm_var]\n",
    "gfdl_ctrl_files = [glob(os.path.join(gfdl_ctrlclim, f'*_{var}_*'))[0] for var in dbpm_var]"
   ]
  },
  {
   "cell_type": "markdown",
   "id": "9a6b203d-abf6-4516-9167-7c0cd2bed563",
   "metadata": {},
   "source": [
    "## Define location of outputs"
   ]
  },
  {
   "cell_type": "code",
   "execution_count": 3,
   "id": "b086bf5c-4d26-4e7f-9467-da05588b0fac",
   "metadata": {},
   "outputs": [],
   "source": [
    "gfdl_out = '/g/data/vf71/la6889/dbpm_inputs/global_gridded/'\n",
    "os.makedirs(gfdl_out, exist_ok = True)"
   ]
  },
  {
   "cell_type": "markdown",
   "id": "a705681c-e888-4ddc-88b6-c54dd4f045bb",
   "metadata": {},
   "source": [
    "## Saving `netcdf` files as `zarr` files"
   ]
  },
  {
   "cell_type": "markdown",
   "id": "3ccdf477-730e-488e-9eb8-f05db6025e44",
   "metadata": {},
   "source": [
    "### `obsclim`"
   ]
  },
  {
   "cell_type": "code",
   "execution_count": 5,
   "id": "d4d4090c-95ce-4c2a-929e-2ae0f9238d4e",
   "metadata": {},
   "outputs": [],
   "source": [
    "for f in gfdl_obs_files:\n",
    "    #Create file path to save outputs\n",
    "    f_out = os.path.basename(f).replace('.nc', '.zarr')\n",
    "    f_out = os.path.join(gfdl_out, f_out)\n",
    "    #Apply function\n",
    "    uf.netcdf_to_zarr(f, f_out)"
   ]
  },
  {
   "cell_type": "markdown",
   "id": "a9e36da4-f7dc-4c63-8b9f-7fa0a6a77bf2",
   "metadata": {},
   "source": [
    "### `ctrlclim`"
   ]
  },
  {
   "cell_type": "code",
   "execution_count": 8,
   "id": "c28532f9-6589-4e01-a45f-570ca96cfc8e",
   "metadata": {},
   "outputs": [],
   "source": [
    "for f in gfdl_ctrl_files:\n",
    "    #Create file path to save outputs\n",
    "    f_out = os.path.basename(f).replace('.nc', '.zarr')\n",
    "    f_out = os.path.join(gfdl_out, f_out)\n",
    "    #Apply function\n",
    "    uf.netcdf_to_zarr(f, f_out)"
   ]
  },
  {
   "cell_type": "markdown",
   "id": "ed18cb10-fee8-47d1-9e33-00d1c01e72b3",
   "metadata": {},
   "source": [
    "### Area of the grid cell (`areacello`)"
   ]
  },
  {
   "cell_type": "code",
   "execution_count": 9,
   "id": "e957ef42-1ff9-4fb6-8010-7b03963708ff",
   "metadata": {},
   "outputs": [],
   "source": [
    "area_path = '/g/data/vf71/shared_resources/grid_cell_area_ESMs/isimip3a/gfdl-mom6-cobalt2_areacello_15arcmin_global_fixed.nc'\n",
    "file_out = os.path.basename(area_path).replace('.nc', '.zarr')\n",
    "file_out = os.path.join(gfdl_out, file_out)\n",
    "uf.netcdf_to_zarr(area_path, file_out)"
   ]
  },
  {
   "cell_type": "markdown",
   "id": "3e973323-2230-408b-ba9b-6727582af8a5",
   "metadata": {},
   "source": [
    "## Calculating phytoplankton (large and small) and export ratio"
   ]
  },
  {
   "cell_type": "code",
   "execution_count": 24,
   "id": "e5c88152-252a-42cf-8581-a99074b3fe33",
   "metadata": {},
   "outputs": [],
   "source": [
    "#Calculating from ctrlclim data\n",
    "gfdl_exp = 'ctrlclim'\n",
    "sphy_ctrl, lphy_ctrl, er_ctrl = uf.getExportRatio(gfdl_out, gfdl_exp)"
   ]
  },
  {
   "cell_type": "code",
   "execution_count": 25,
   "id": "61f09249-bd51-4204-a10f-14e378da46d0",
   "metadata": {},
   "outputs": [
    {
     "data": {
      "text/plain": [
       "<xarray.backends.zarr.ZarrStore at 0x1552d1bcf440>"
      ]
     },
     "execution_count": 25,
     "metadata": {},
     "output_type": "execute_result"
    }
   ],
   "source": [
    "#Saving datasets\n",
    "sphy_ctrl.to_zarr(\n",
    "    os.path.join(gfdl_out, \n",
    "                 f'gfdl-mom6-cobalt2_{gfdl_exp}_sphy_15arcmin_global_monthly_1961_2010.zarr'),\n",
    "          consolidated = True, mode = 'w')\n",
    "\n",
    "lphy_ctrl.to_zarr(\n",
    "    os.path.join(gfdl_out, \n",
    "                 f'gfdl-mom6-cobalt2_{gfdl_exp}_lphy_15arcmin_global_monthly_1961_2010.zarr'),\n",
    "          consolidated = True, mode = 'w')\n",
    "\n",
    "er_ctrl.to_zarr(\n",
    "    os.path.join(gfdl_out, \n",
    "                 f'gfdl-mom6-cobalt2_{gfdl_exp}_er_15arcmin_global_monthly_1961_2010.zarr'),\n",
    "          consolidated = True, mode = 'w')"
   ]
  },
  {
   "cell_type": "code",
   "execution_count": 26,
   "id": "ecaebf7b-4b6f-4ebd-9690-ab2ef6c5104f",
   "metadata": {},
   "outputs": [],
   "source": [
    "#Calculating from obsclim data\n",
    "gfdl_exp = 'obsclim'\n",
    "sphy_obs, lphy_obs, er_obs = uf.getExportRatio(gfdl_out, gfdl_exp)"
   ]
  },
  {
   "cell_type": "markdown",
   "id": "51da2051-fcfd-45dd-a00d-29dde0399644",
   "metadata": {},
   "source": [
    "## Calculate intercept and slope"
   ]
  },
  {
   "cell_type": "markdown",
   "id": "5b3dc6f5-ba24-4b96-b48d-15f770eb371d",
   "metadata": {},
   "source": [
    "### `obsclim`"
   ]
  },
  {
   "cell_type": "code",
   "execution_count": 17,
   "id": "f8c295d6-d356-4ee9-aef0-766477bd8ab7",
   "metadata": {},
   "outputs": [
    {
     "data": {
      "text/plain": [
       "<xarray.backends.zarr.ZarrStore at 0x14ce30a28e40>"
      ]
     },
     "execution_count": 17,
     "metadata": {},
     "output_type": "execute_result"
    }
   ],
   "source": [
    "int_obs, slope_obs = uf.GetPPIntSlope(\n",
    "    glob(os.path.join(gfdl_out, '*obsclim*')))\n",
    "\n",
    "#Saving datasets\n",
    "int_obs.to_zarr(\n",
    "    os.path.join(gfdl_out, \n",
    "                 'gfdl-mom6-cobalt2_obsclim_intercept_15arcmin_global_monthly_1961_2010.zarr'),\n",
    "          consolidated = True, mode = 'w')\n",
    "\n",
    "slope_obs.to_zarr(\n",
    "    os.path.join(gfdl_out, \n",
    "                 'gfdl-mom6-cobalt2_obsclim_slope_15arcmin_global_monthly_1961_2010.zarr'),\n",
    "          consolidated = True, mode = 'w')"
   ]
  },
  {
   "cell_type": "markdown",
   "id": "545edd3e-5d9a-4823-abd9-cee063a7ead8",
   "metadata": {},
   "source": [
    "### `ctrlclim`"
   ]
  },
  {
   "cell_type": "code",
   "execution_count": 18,
   "id": "eaa638ac-c2ae-474b-9b5f-54b8e7ac2232",
   "metadata": {},
   "outputs": [
    {
     "data": {
      "text/plain": [
       "<xarray.backends.zarr.ZarrStore at 0x14ce31a698c0>"
      ]
     },
     "execution_count": 18,
     "metadata": {},
     "output_type": "execute_result"
    }
   ],
   "source": [
    "int_ctrl, slope_ctrl = uf.GetPPIntSlope(\n",
    "    glob(os.path.join(gfdl_out, '*ctrlclim*')))\n",
    "\n",
    "#Saving datasets\n",
    "int_ctrl.to_zarr(\n",
    "    os.path.join(gfdl_out, \n",
    "                 'gfdl-mom6-cobalt2_ctrlclim_intercept_15arcmin_global_monthly_1961_2010.zarr'),\n",
    "          consolidated = True, mode = 'w')\n",
    "\n",
    "slope_ctrl.to_zarr(\n",
    "    os.path.join(gfdl_out, \n",
    "                 'gfdl-mom6-cobalt2_ctrlclim_slope_15arcmin_global_monthly_1961_2010.zarr'),\n",
    "          consolidated = True, mode = 'w')"
   ]
  },
  {
   "cell_type": "markdown",
   "id": "ab9ce503-b6a9-414c-b552-0109b2daab53",
   "metadata": {},
   "source": [
    "## Creating **spinup** period\n",
    "We will use data from `ctrlclim` between 1961 and 1980 as our spinup period. Our spinup period will go from 1841 to 1960."
   ]
  },
  {
   "cell_type": "code",
   "execution_count": 19,
   "id": "66d5c21c-711f-4b8b-a5ac-c30521b76025",
   "metadata": {},
   "outputs": [],
   "source": [
    "spin_files = [f for f in glob(os.path.join(gfdl_out, '*ctrlclim*')) \n",
    "              if 'deptho' not in f]\n",
    "spinup_period = pd.date_range('1841-01-01', end = '1960-12-31', \n",
    "                              freq = 'MS')"
   ]
  },
  {
   "cell_type": "code",
   "execution_count": 26,
   "id": "85115bf9-bf56-4c44-bbec-b16d42404924",
   "metadata": {},
   "outputs": [],
   "source": [
    "#Get start and end year of spinup period to rename file\n",
    "start_spin = str(spinup_period.year.min())\n",
    "end_spin = str(spinup_period.year.max())\n",
    "\n",
    "for f in spin_files:\n",
    "    f_out = f.replace('ctrlclim', 'spinup').\\\n",
    "    replace('1961', start_spin).replace('2010', end_spin)\n",
    "    uf.gridded_spinup(f, '1961', '1980', spinup_period, file_out = f_out)"
   ]
  },
  {
   "cell_type": "markdown",
   "id": "c0c61696-66e7-4f80-994e-f2c4402d901e",
   "metadata": {},
   "source": [
    "## Creating **stable spinup** period\n",
    "Based on the data above, we will create a stable spinup period explanding 100 years starting in 1741. Monthly values for this stable spinup period are simply the mean values for the year 1841."
   ]
  },
  {
   "cell_type": "code",
   "execution_count": 11,
   "id": "f53420d0-12f6-4202-bfc6-b5b667ee9cfb",
   "metadata": {},
   "outputs": [],
   "source": [
    "spin_files = [f for f in glob(os.path.join(gfdl_out, '*spinup*')) \n",
    "              if 'deptho' not in f]\n",
    "spinup_period = pd.date_range('1741-01-01', end = '1840-12-31', \n",
    "                              freq = 'MS')"
   ]
  },
  {
   "cell_type": "code",
   "execution_count": null,
   "id": "f88f02fd-37c2-4ecb-9937-21e3fa88babf",
   "metadata": {},
   "outputs": [],
   "source": [
    "#Get start and end year of spinup period to rename file\n",
    "start_spin = str(spinup_period.year.min())\n",
    "end_spin = str(spinup_period.year.max())\n",
    "\n",
    "for f in spin_files:\n",
    "    f_out = f.replace('spinup', 'stable-spin').\\\n",
    "    replace('1841', start_spin).replace('1960', end_spin)\n",
    "    uf.gridded_spinup(f, '1841-01', '1841-12', spinup_period, file_out = f_out)"
   ]
  }
 ],
 "metadata": {
  "kernelspec": {
   "display_name": "Python [conda env:analysis3-24.04] *",
   "language": "python",
   "name": "conda-env-analysis3-24.04-py"
  },
  "language_info": {
   "codemirror_mode": {
    "name": "ipython",
    "version": 3
   },
   "file_extension": ".py",
   "mimetype": "text/x-python",
   "name": "python",
   "nbconvert_exporter": "python",
   "pygments_lexer": "ipython3",
   "version": "3.10.14"
  }
 },
 "nbformat": 4,
 "nbformat_minor": 5
}
