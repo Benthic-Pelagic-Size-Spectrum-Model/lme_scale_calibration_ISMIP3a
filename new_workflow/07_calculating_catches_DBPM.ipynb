{
 "cells": [
  {
   "cell_type": "markdown",
   "id": "2b0fc6a1-968c-467f-9a6c-5d15003d2364",
   "metadata": {},
   "source": [
    "# Calculating catches from gridded DBPM outputs\n",
    "**Author**: Denisse Fierro Arcos  \n",
    "**Date**: 2025-02-06  \n",
    "\n",
    "In this notebook, we will calculate catches from gridded DBPM outputs."
   ]
  },
  {
   "cell_type": "markdown",
   "id": "9f83d314-52dc-40d2-a95c-cac096a6a101",
   "metadata": {},
   "source": [
    "## Loading relevant libraries"
   ]
  },
  {
   "cell_type": "code",
   "execution_count": 1,
   "id": "deff782b-529b-4f09-86ba-020ad634a398",
   "metadata": {},
   "outputs": [],
   "source": [
    "import os\n",
    "os.chdir('/g/data/vf71/la6889/lme_scale_calibration_ISMIP3a/new_workflow/')\n",
    "from glob import glob\n",
    "import xarray as xr\n",
    "import json\n",
    "import numpy as np\n",
    "import matplotlib.pyplot as plt\n",
    "# import useful_functions as uf\n",
    "from dask.distributed import Client"
   ]
  },
  {
   "cell_type": "markdown",
   "id": "b7bd8f5a-65ee-4ac2-b1f5-603eebe44715",
   "metadata": {},
   "source": [
    "## Start a cluster for parallelisation"
   ]
  },
  {
   "cell_type": "code",
   "execution_count": 2,
   "id": "8b17868f-906d-490c-b4ca-b5965141ec31",
   "metadata": {},
   "outputs": [],
   "source": [
    "client = Client(threads_per_worker = 1)"
   ]
  },
  {
   "cell_type": "markdown",
   "id": "363c2ac5-dd94-499f-a499-5d8fc23f27f5",
   "metadata": {},
   "source": [
    "## Defining basic variables to run gridded DBPM"
   ]
  },
  {
   "cell_type": "code",
   "execution_count": 2,
   "id": "771407fd-01ca-43e2-9cba-fd1e58d0835f",
   "metadata": {},
   "outputs": [],
   "source": [
    "#Name of region and model resolution\n",
    "region = 'fao-88'\n",
    "model_res = '025deg'\n",
    "\n",
    "#Defining input and output folders\n",
    "base_folder = '/g/data/vf71/la6889/dbpm_inputs/west_antarctica/'\n",
    "gridded_inputs = os.path.join(base_folder, 'gridded_params', model_res)\n",
    "gridded_outputs = os.path.join(base_folder, 'run_fishing', model_res)"
   ]
  },
  {
   "cell_type": "markdown",
   "id": "4fd589e5-9199-4dbe-8b58-d1902e068439",
   "metadata": {},
   "source": [
    "## Loading gridded parameters and gridded inputs"
   ]
  },
  {
   "cell_type": "code",
   "execution_count": 12,
   "id": "87f928b9-feb9-4fd6-8870-76c70ff7f0f4",
   "metadata": {},
   "outputs": [],
   "source": [
    "#Loading gridded parameters\n",
    "gridded_params = json.load(open(\n",
    "    os.path.join(base_folder, 'gridded_params', model_res,\n",
    "                 f'dbpm_gridded_size_params_{region}_python.json')))\n",
    "\n",
    "#Loading mortality from fishing\n",
    "fish_mort_det = xr.open_zarr(glob(\n",
    "    os.path.join(gridded_inputs, 'fish-mort-det*'))[0])['fish_mort_det']\n",
    "fish_mort_pred = xr.open_zarr(glob(\n",
    "    os.path.join(gridded_inputs, 'fish-mort-pred*'))[0])['fish_mort_pred']\n",
    "\n",
    "#Loadding effort - Only initial time step\n",
    "effort_init = xr.open_zarr(glob(\n",
    "    os.path.join(gridded_inputs, 'effort_spinup*'))[0])['effort'].isel(time = 0)\n",
    "\n",
    "#Size class bins\n",
    "log10_size_bins_mat = xr.open_zarr('outputs/log10_size_bins_matrix.zarr/')['size_bins']\n",
    "size_bin_vals = 10**log10_size_bins_mat"
   ]
  },
  {
   "cell_type": "markdown",
   "id": "c08a33f7-25dd-4a9d-bd5e-3d6c3a5af894",
   "metadata": {},
   "source": [
    "## Loading gridded DBPM outputs "
   ]
  },
  {
   "cell_type": "code",
   "execution_count": 8,
   "id": "f94b4bef-80e3-4375-95e2-06e75d563635",
   "metadata": {},
   "outputs": [],
   "source": [
    "predators = xr.open_mfdataset(glob(\n",
    "    os.path.join(gridded_outputs, 'predators*')))['predators']\n",
    "\n",
    "detritivores = xr.open_mfdataset(glob(\n",
    "    os.path.join(gridded_outputs, 'detritivores*')))['detritivores']\n",
    "\n",
    "effort = xr.open_mfdataset(glob(os.path.join(gridded_outputs, 'effort*')))['effort']\n",
    "\n",
    "#Add initial effort values\n",
    "effort = xr.concat([effort_init, effort], dim = 'time')"
   ]
  },
  {
   "cell_type": "markdown",
   "id": "a09aa79e-6a05-416c-86c8-23dfb996f917",
   "metadata": {},
   "source": [
    "## Calculate fishing mortality "
   ]
  },
  {
   "cell_type": "code",
   "execution_count": 10,
   "id": "425236e0-f84a-423b-9ff5-253b38251fff",
   "metadata": {},
   "outputs": [],
   "source": [
    "fishing_mort_pred = fish_mort_pred*effort\n",
    "fishing_mort_det = fish_mort_det*effort"
   ]
  },
  {
   "cell_type": "markdown",
   "id": "efcd886c-29f0-4008-9e63-07d99e6a8279",
   "metadata": {},
   "source": [
    "## Calculates catches per time step and size class\n",
    "`fishing_mort_pred` and `fishing_mort_det` are set to zero outside the sizes for each class, so there is no need to apply a mask here."
   ]
  },
  {
   "cell_type": "code",
   "execution_count": 13,
   "id": "e54340d9-e8e4-45e8-bafc-7a3c15610c25",
   "metadata": {},
   "outputs": [],
   "source": [
    "catch_pred = fishing_mort_pred*predators*size_bin_vals\n",
    "catch_det = fishing_mort_det*detritivores*size_bin_vals"
   ]
  },
  {
   "cell_type": "markdown",
   "id": "5862bc2b-d1fa-4849-96ab-83c06cabf41f",
   "metadata": {},
   "source": [
    "## Calculate biomass for catches "
   ]
  },
  {
   "cell_type": "code",
   "execution_count": 19,
   "id": "d02525a5-20e2-4f4c-b97c-c96c85ff6eb6",
   "metadata": {},
   "outputs": [],
   "source": [
    "tot_pred_bio = ((predators.isel(size_class = slice(gridded_params['ind_min_pred_size'], \n",
    "                                                  None))*\n",
    "                gridded_params['log_size_increase']*size_bin_vals).\n",
    "                sum(('size_class', 'lat', 'lon')))\n",
    "\n",
    "tot_pred_det = (detritivores.isel(size_class = \n",
    "                                  slice(gridded_params['ind_min_detritivore_size'], \n",
    "                                        None))*gridded_params['log_size_increase']*\n",
    "                size_bin_vals).sum(('size_class', 'lat', 'lon'))"
   ]
  },
  {
   "cell_type": "code",
   "execution_count": 31,
   "id": "bf70da81-9ee1-45a2-8ef7-90efec30e777",
   "metadata": {},
   "outputs": [],
   "source": [
    "tot_catch_pred = ((catch_pred*gridded_params['log_size_increase']).\n",
    "                  sum(('size_class', 'lat', 'lon')))\n",
    "\n",
    "tot_catch_det = ((catch_det*gridded_params['log_size_increase']).\n",
    "                  sum(('size_class', 'lat', 'lon')))\n",
    "\n",
    "total_catch = tot_catch_det+tot_catch_pred"
   ]
  },
  {
   "cell_type": "code",
   "execution_count": 35,
   "id": "c6e7b727-bd50-4c86-8c84-9d88748a4bc2",
   "metadata": {},
   "outputs": [
    {
     "data": {
      "text/plain": [
       "[<matplotlib.lines.Line2D at 0x14ca270675e0>]"
      ]
     },
     "execution_count": 35,
     "metadata": {},
     "output_type": "execute_result"
    },
    {
     "data": {
      "image/png": "[encoded data removed]",
      "text/plain": [
       "<Figure size 640x480 with 1 Axes>"
      ]
     },
     "metadata": {},
     "output_type": "display_data"
    }
   ],
   "source": [
    "total_catch.groupby('time.year').mean('time').plot()"
   ]
  }
 ],
 "metadata": {
  "kernelspec": {
   "display_name": "Python [conda env:analysis3-24.07]",
   "language": "python",
   "name": "conda-env-analysis3-24.07-py"
  },
  "language_info": {
   "codemirror_mode": {
    "name": "ipython",
    "version": 3
   },
   "file_extension": ".py",
   "mimetype": "text/x-python",
   "name": "python",
   "nbconvert_exporter": "python",
   "pygments_lexer": "ipython3",
   "version": "3.10.16"
  }
 },
 "nbformat": 4,
 "nbformat_minor": 5
}
