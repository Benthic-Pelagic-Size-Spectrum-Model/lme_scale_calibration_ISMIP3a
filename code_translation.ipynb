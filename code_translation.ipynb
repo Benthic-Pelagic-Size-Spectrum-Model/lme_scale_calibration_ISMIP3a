{
 "cells": [
  {
   "cell_type": "code",
   "execution_count": 1,
   "id": "a3a46d70-3b55-4506-86d8-85299ce2a4bc",
   "metadata": {},
   "outputs": [],
   "source": [
    "# import xarray as xr\n",
    "# import matplotlib.pyplot as plt\n",
    "import numpy as np\n",
    "# import pyreadr\n",
    "import json\n",
    "import pandas as pd\n",
    "import copy\n",
    "#Progress bar\n",
    "# from tqdm import tqdm"
   ]
  },
  {
   "cell_type": "markdown",
   "id": "ea377f60-c57c-441e-adb4-fe15c737a0a3",
   "metadata": {},
   "source": [
    "Lists from `R` cannot be read in `Python` when saved as `RData` or `rds` files. Even when the `pyreadr` library is used, it is not possible. This library opens both type of file formats, but not if it is a list. To be able to read a list in `Python`, they need to be saved as `json` files in `R` as follows:\n",
    "\n",
    "```\n",
    "library(jsonlite)\n",
    "write_json(l, \"test.json\")\n",
    "```\n",
    "\n",
    "These files can then be opened in `Python` \n",
    "\n",
    "```\n",
    "import json\n",
    "with open(\"file.json\") as f:\n",
    "    l = json.load(f)\n",
    "```\n",
    "\n",
    "The items inside lists can be loaded as `numpy` matrices or `pandas` data frames."
   ]
  },
  {
   "cell_type": "code",
   "execution_count": 2,
   "id": "911c5ef0-1250-45a8-a59a-8333051cb4d7",
   "metadata": {},
   "outputs": [],
   "source": [
    "# r_data = pyreadr.read_r('/g/data/vf71/la6889/lme_scale_calibration_ISMIP3a/test_LME_4/gridded_params.rds')\n",
    "# r_data.keys()"
   ]
  },
  {
   "cell_type": "code",
   "execution_count": 2,
   "id": "2f37d91e-67dc-4d65-a828-d621d6b9ece6",
   "metadata": {},
   "outputs": [],
   "source": [
    "with open('/g/data/vf71/la6889/lme_scale_calibration_ISMIP3a/test_LME_4/gridded_params.json') as f:\n",
    "    gridded_params = json.load(f)"
   ]
  },
  {
   "cell_type": "code",
   "execution_count": 3,
   "id": "76b20454-ab32-4f4b-af17-0bab3f2f1e06",
   "metadata": {},
   "outputs": [
    {
     "data": {
      "text/plain": [
       "dict_keys(['lat', 'lon', 'depth', 'pp', 'r.plank', 'er', 'sst', 'sft', 'Fmort.u', 'Fmort.v', 'min.fishing.size.u', 'min.fishing.size.v', 'effort', 'pref.ben', 'pref.pel', 'det.coupling', 'sinking.rate', 'q0', 'sd.q', 'A.u', 'A.v', 'alpha.u', 'alpha.v', 'def.high', 'def.low', 'K.u', 'K.v', 'K.d', 'AM.u', 'AM.v', 'handling', 'repro.on', 'c1', 'E', 'Boltzmann', 'mu0', 'xs', 'p.s', 'k.sm', 'dx', 'xmin', 'x1', 'x1.det', 'xmax', 'xmax2', 'x', 'Nx', 'ref', 'ref.det', 'Fref.u', 'Fref.v', 'idx', 'tmax', 'delta_t', 'Neq', 'Ngrid', 'U.init', 'V.init', 'W.init', 'equilibrium'])"
      ]
     },
     "execution_count": 3,
     "metadata": {},
     "output_type": "execute_result"
    }
   ],
   "source": [
    "gridded_params.keys()"
   ]
  },
  {
   "cell_type": "code",
   "execution_count": 66,
   "id": "9da3fcf5-d740-441b-a3f0-f452fa5eb7ba",
   "metadata": {},
   "outputs": [],
   "source": [
    "#Dates used as column names\n",
    "col_names = pd.date_range('1840-01-01', '1842-01-01', freq = 'MS')"
   ]
  },
  {
   "cell_type": "code",
   "execution_count": 83,
   "id": "b30b64e0-ce87-4fe1-8ad9-12911807dd1b",
   "metadata": {},
   "outputs": [],
   "source": [
    "# May need to do this to transform original json data to correct format\n",
    "# np.transpose(gridded_params['sinking.rate'])\n",
    "# pp = pd.DataFrame(gridded_params['pp'])\n",
    "# pp.columns = col_names"
   ]
  },
  {
   "cell_type": "markdown",
   "id": "ff8d9b04-b065-4db5-aea6-c6440b525801",
   "metadata": {},
   "source": [
    "# Defining functions called within sizemodel()"
   ]
  },
  {
   "cell_type": "code",
   "execution_count": 4,
   "id": "49b02a0a-3489-4c15-8a7a-b6dd5e5a7cbe",
   "metadata": {},
   "outputs": [],
   "source": [
    "# Build a lookup table for diet preference ------\n",
    "# Looks at all combinations of predator and prey body size: diet preference \n",
    "# (in the predator spectrum only)\n",
    "def phi_f(q, q0, sd_q):\n",
    "    phi = np.where(q > 0, np.exp(-(q-q0)*(q-q0)/(2*sd_q*sd_q))/(sd_q*np.sqrt(2.0*np.pi)), 0) \n",
    "    return phi\n",
    "\n",
    "# Functions to build lookup tables for (constant) growth\n",
    "def gphi_f(q1, q0, sd_q):\n",
    "    return 10**(-q1)*phi_f(q1, q0, sd_q)\n",
    "\n",
    "# Functions to build lookup tables for (constant) mortality\n",
    "def mphi_f(q2, q0, sd_q, alpha_u):\n",
    "    return 10**(alpha_u*q2)*phi_f(q2, q0, sd_q)\n",
    "\n",
    "# Function to build lookup table for components of 10^(alpha*x)\n",
    "def expax_f(x, alpha_u):\n",
    "    return list(10**(np.array(x)*alpha_u))\n",
    "\n",
    "def gravitymodel(effort, prop_b, depth, n_iter):\n",
    "    # redistribute total effort across grid cells according to proportion of\n",
    "    # biomass in that grid cell using gravity model, Walters & Bonfil, 1999, \n",
    "    # Gelchu & Pauly 2007, ideal free distribution - Blanchard et al 2008\n",
    "    for j in range(n_iter):\n",
    "        suit = prop_b*(1-(np.array(depth)/max(depth)))\n",
    "        # rescale:\n",
    "        rel_suit = suit/sum(suit)\n",
    "        new_effort = effort+(rel_suit*effort)\n",
    "        mult = sum(effort)/sum(new_effort)\n",
    "        # gradient drives individuals to best locations at equilibrium (assumed to \n",
    "        # reached after 10000 iterations)\n",
    "        effort = new_effort*mult\n",
    "    return effort"
   ]
  },
  {
   "cell_type": "code",
   "execution_count": null,
   "id": "ac3b5df4-df8e-4f81-8445-518396031594",
   "metadata": {},
   "outputs": [],
   "source": [
    "# def gridded_sizemodel(params, ERSEM.det.input = F, U_mat, V_mat, W_mat, temp_effect = True,\n",
    "#                       eps = 1e-5, output = \"aggregated\", use_init = False):\n"
   ]
  },
  {
   "cell_type": "code",
   "execution_count": 408,
   "id": "31aa9d61-5fde-4992-9a8d-17504cb5aaf7",
   "metadata": {},
   "outputs": [],
   "source": [
    "#From gridded_params json file\n",
    "pp = np.array(gridded_params['pp'])\n",
    "r_plank = np.array(gridded_params['r.plank'])\n",
    "sst = np.array(gridded_params['sst'])\n",
    "sft = np.array(gridded_params['sft'])\n",
    "sinking_rate = np.array(gridded_params['sinking.rate'])\n",
    "\n",
    "[Ngrid] = gridded_params['Ngrid']\n",
    "[Neq] = gridded_params['Neq']\n",
    "[q0] = gridded_params['q0']\n",
    "[sd_q] = gridded_params['sd.q']\n",
    "[alpha_u] = gridded_params['alpha.u']\n",
    "[alpha_v] = gridded_params['alpha.v']\n",
    "U_init = gridded_params['U.init']\n",
    "V_init = gridded_params['V.init']\n",
    "[ref] = gridded_params['ref']\n",
    "[ref_det] = gridded_params['ref.det']\n",
    "[W_init] = gridded_params['W.init']\n",
    "[mu0] = gridded_params['mu0']\n",
    "[k_sm] = gridded_params['k.sm']\n",
    "[p_s] = gridded_params['p.s']\n",
    "[xs] = gridded_params['xs']\n",
    "[Fref_u] = gridded_params['Fref.u']\n",
    "[Fref_v] = gridded_params['Fref.v']\n",
    "[Nx] = gridded_params['Nx']\n",
    "[Fmort_u] = gridded_params['Fmort.u']\n",
    "[Fmort_v] = gridded_params['Fmort.v']\n",
    "[Boltzmann] = gridded_params['Boltzmann']\n",
    "[E] = gridded_params['E']\n",
    "[c1] = gridded_params['c1']\n",
    "[A_u] = gridded_params['A.u']\n",
    "[A_v] = gridded_params['A.v']\n",
    "[handling] = gridded_params['handling']\n",
    "[def_high] = gridded_params['def.high']\n",
    "[K_u] = gridded_params['K.u']\n",
    "[def_low] = gridded_params['def.low']\n",
    "[K_v] = gridded_params['K.v']\n",
    "[repro_on] = gridded_params['repro.on']\n",
    "[AM_u] = gridded_params['AM.u']\n",
    "[AM_v] = gridded_params['AM.v']\n",
    "[K_d] = gridded_params['K.d']\n",
    "\n",
    "effort = np.array(gridded_params['effort']).astype('float')\n",
    "effort[0:5,] = effort[0:5,]+10.\n",
    "effort[5:10,] = effort[5:10,]+2.\n",
    "effort[10:,] = effort[10:,]+5.\n",
    "\n",
    "[dx] = gridded_params['dx']\n",
    "depth = [d for i in gridded_params['depth'] for d in i]\n",
    "pref_pel = [float(p) for pref in gridded_params['pref.pel'] for p in pref]\n",
    "pref_ben = [float(b) for pref in gridded_params['pref.ben'] for b in pref]\n",
    "\n",
    "x = np.array(gridded_params['x'])\n",
    "y = np.array(gridded_params['x'])"
   ]
  },
  {
   "cell_type": "markdown",
   "id": "a1547458-2fd0-4b70-9058-11e9a48a3f66",
   "metadata": {},
   "source": [
    "The `Boltzmann` variable has been truncated to 0.0001, but its real value is $8.62e^{-5}$. This has a large effect on growth and mortality calculations, where the temperature effect (`pel_tempeffect`) goes from 2.009482 (as calculated in R) to 59.25972. The effect is similar with `ben_tempeffect` which changes from 0.2442538 to 9.634305."
   ]
  },
  {
   "cell_type": "code",
   "execution_count": 409,
   "id": "8574fcd6-504f-4ace-b1fd-c723c721e505",
   "metadata": {},
   "outputs": [],
   "source": [
    "ui0 = 10**pp"
   ]
  },
  {
   "cell_type": "markdown",
   "id": "723fdeb9-2a0d-4909-8d15-c73adb335761",
   "metadata": {},
   "source": [
    "# Initialising matrices"
   ]
  },
  {
   "cell_type": "code",
   "execution_count": 410,
   "id": "107e2b0d-57e7-4048-b76a-0b5f1a6c8f0d",
   "metadata": {},
   "outputs": [],
   "source": [
    "q1  = np.empty([len(x), len(y)])\n",
    "for i in range(len(y)):\n",
    "    q1[:, i] = [y[i]-a for a in x]\n",
    "\n",
    "#q2 is the reverse matrix holding the log(preysize/predatorsize) for all \n",
    "#combinations of sizes\n",
    "q2 = -1*q1\n",
    "\n",
    "#matrix for recording the two size spectra \n",
    "V = np.zeros((Ngrid, len(x), Neq+1))\n",
    "U = np.zeros((Ngrid, len(x), Neq+1))\n",
    "\n",
    "#vector to hold detrtitus biomass density (g.m-2)\n",
    "W = np.zeros((Ngrid, Neq+1))\n",
    "\n",
    "#matrix for keeping track of growth and reproduction from ingested food:\n",
    "GG_u = np.zeros((Ngrid, len(x), Neq+1))\n",
    "R_v = R_u = GG_v = copy.deepcopy(GG_u)\n",
    "\n",
    "#matrix for keeping track of predation mortality\n",
    "PM_u = np.zeros((Ngrid, len(x), Neq+1)) \n",
    "PM_v = np.zeros((Ngrid, len(x), Neq+1))\n",
    "\n",
    "#matrix for keeping track of catches  \n",
    "Y_u = np.zeros((Ngrid, len(x), Neq+1)) \n",
    "Y_v = np.zeros((Ngrid, len(x), Neq+1))\n",
    "\n",
    "#matrix for keeping track of total mortality (Z)\n",
    "Z_u = np.zeros((Ngrid, len(x), Neq+1))\n",
    "Z_v = np.zeros((Ngrid, len(x), Neq+1))\n",
    "\n",
    "#matrix for keeping track of senescence mortality and other (intrinsic) \n",
    "#mortality\n",
    "OM_u = np.zeros(len(x))\n",
    "SM_v = SM_u = OM_v = copy.deepcopy(OM_u)\n",
    "\n",
    "#empty vector to hold fishing mortality rates at each size class at time\n",
    "Fvec_u = np.zeros((Ngrid, len(x), Neq+1))\n",
    "Fvec_v = np.zeros((Ngrid, len(x), Neq+1))"
   ]
  },
  {
   "cell_type": "markdown",
   "id": "45071680-fb12-43e7-83ef-ea379aece4c5",
   "metadata": {},
   "source": [
    "# Building lookup tables"
   ]
  },
  {
   "cell_type": "code",
   "execution_count": 411,
   "id": "14f58744-8824-4725-8afd-5682f50e4df6",
   "metadata": {},
   "outputs": [],
   "source": [
    "#lookup tables for terms in the integrals which remain constant over time\n",
    "gphi  = gphi_f(q1, q0, sd_q)\n",
    "mphi  = mphi_f(q2, q0, sd_q, alpha_u)\n",
    "\n",
    "#lookup table for components of 10^(alpha_u*x)\n",
    "expax = expax_f(x, alpha_u)"
   ]
  },
  {
   "cell_type": "markdown",
   "id": "f57ecc1e-44e0-42a0-8331-283c401d9ef2",
   "metadata": {},
   "source": [
    "# Numerical integration"
   ]
  },
  {
   "cell_type": "code",
   "execution_count": 412,
   "id": "62e138b4-1f09-4e03-bf11-ec537ff807b4",
   "metadata": {},
   "outputs": [],
   "source": [
    "#For testing only\n",
    "use_init = True"
   ]
  },
  {
   "cell_type": "code",
   "execution_count": 413,
   "id": "7c814b88-2257-47f6-9609-c01c3f7d9476",
   "metadata": {},
   "outputs": [],
   "source": [
    "# set up with the initial values from param - same for all grid cells\n",
    "#(phyto+zoo)plankton size spectrum (from 0 to ref)\n",
    "#consumer size spectrum (from ref to 120)\n",
    "U[0:Ngrid, 0:120, 0] = U_init[0:120] \n",
    "\n",
    "# set initial detritivore spectrum  \n",
    "V[0:Ngrid, (ref_det-1):120, 0] = V_init[(ref_det-1):120]\n",
    "\n",
    "# set initial detritus biomass density (g.m^-3) \n",
    "W[0:Ngrid, 0] = W_init\n",
    "    \n",
    "if use_init:\n",
    "    # set up with the initial values from previous run\n",
    "    #(phyto+zoo)plankton size spectrum \n",
    "    U[0:Ngrid, 0:(ref-1), 0] = U_init[0:(ref-1)]    \n",
    "    # set initial consumer size spectrum from previous run\n",
    "    U[0:Ngrid, (ref-1):len(x), 0] = U_init[(ref-1):len(x)]\n",
    "    # set initial detritivore spectrum from previous run\n",
    "    V[0:Ngrid, (ref_det-1):len(x), 0] = V_init[(ref_det-1):len(x)]  \n",
    "    W[0:Ngrid, 0] = W_init"
   ]
  },
  {
   "cell_type": "code",
   "execution_count": 414,
   "id": "81f44d00-afa2-4aa1-8bf4-5207921e5181",
   "metadata": {},
   "outputs": [],
   "source": [
    "# intrinsic natural mortality\n",
    "OM_u = mu0*10**(-0.25*np.array(x))\n",
    "OM_v = mu0*10**(-0.25*np.array(x))\n",
    "\n",
    "# senescence mortality rate to limit large fish from building up in the system\n",
    "# same function as in Law et al 2008, with chosen parameters gives similar M2 values as in Hall et al. 2006\n",
    "SM_u = k_sm*10**(p_s*(np.array(x)-xs))\n",
    "SM_v = k_sm*10**(p_s*(np.array(x)-xs))"
   ]
  },
  {
   "cell_type": "markdown",
   "id": "6bb30b22-7263-4358-beca-f4d4a6e5c1be",
   "metadata": {},
   "source": [
    "In the chunk below, both `Fref_u` and `Fref_v` are decimal values. `Nx` decreased by one to match results produced by original R code."
   ]
  },
  {
   "cell_type": "code",
   "execution_count": 415,
   "id": "7d40c88e-e167-499c-86d7-8d8087073db2",
   "metadata": {},
   "outputs": [],
   "source": [
    "#Fishing mortality (THESE PARAMETERS NEED TO BE ESTIMATED!)\n",
    "# here Fmort_u and Fmort_u= fixed catchability term for U and V to be \n",
    "# estimated along with Fref_v and Fref_u\n",
    "ind_fvecu = np.arange(int(Fref_u-1), (Nx-1))\n",
    "for i in ind_fvecu:\n",
    "    Fvec_u[:, i, 0] = Fmort_u*effort[:, 0]\n",
    "\n",
    "ind_fvecv = np.arange(int(Fref_v-1), (Nx-1))\n",
    "for i in ind_fvecv:\n",
    "    Fvec_v[:, i, 0] = Fmort_v*effort[:, 0]"
   ]
  },
  {
   "cell_type": "code",
   "execution_count": 416,
   "id": "84251f0b-32ea-42c6-82c4-0423f8e66037",
   "metadata": {},
   "outputs": [],
   "source": [
    "# output fisheries catches per yr at size\n",
    "Y_u[:, ind_fvecu, 0] = Fvec_u[:, ind_fvecu, 0]*U[:, ind_fvecu, 0]*10**np.array(x)[ind_fvecu]\n",
    "# output fisheries catches per yr at size\n",
    "Y_v[:, ind_fvecv, 0] = Fvec_v[:, ind_fvecv, 0]*V[:, ind_fvecv, 0]*10**np.array(x)[ind_fvecv]"
   ]
  },
  {
   "cell_type": "code",
   "execution_count": 417,
   "id": "130e1125-63f8-4d4f-b874-6dbf7b72c015",
   "metadata": {},
   "outputs": [],
   "source": [
    "temp_effect = True"
   ]
  },
  {
   "cell_type": "markdown",
   "id": "3a9efab9-d0cf-478e-ada9-3273187feea7",
   "metadata": {},
   "source": [
    "`Boltzmann` value updated to $8.62e^{-5}$ to match value in R, otherwise, temperature effect results are one order of magnitude higher."
   ]
  },
  {
   "cell_type": "code",
   "execution_count": 418,
   "id": "f221234c-a3e7-4b0f-a16d-f78958bc4c44",
   "metadata": {},
   "outputs": [],
   "source": [
    "Boltzmann = 8.62e-5"
   ]
  },
  {
   "cell_type": "code",
   "execution_count": 432,
   "id": "de5a1994-b8d2-4578-b2a9-a77ecc79e8d7",
   "metadata": {},
   "outputs": [
    {
     "ename": "SyntaxError",
     "evalue": "incomplete input (290967042.py, line 6)",
     "output_type": "error",
     "traceback": [
      "\u001b[0;36m  Cell \u001b[0;32mIn[432], line 6\u001b[0;36m\u001b[0m\n\u001b[0;31m    (np.sum(ben_Tempeffect*OM_v[0:Nx]*det_coupling_v_multiplier)))\u001b[0m\n\u001b[0m                                                                  ^\u001b[0m\n\u001b[0;31mSyntaxError\u001b[0m\u001b[0;31m:\u001b[0m incomplete input\n"
     ]
    }
   ],
   "source": [
    "input_w = (sinking_rate[j, i]* \n",
    "           (np.sum(defbypred[ref:Nx]*dx)+ \n",
    "            np.sum(pel_Tempeffect*OM_u[0:Nx]*det_coupling_u_multiplier)+ \n",
    "            np.sum(pel_Tempeffect*SM_u[0:Nx]*det_coupling_u_multiplier))+\n",
    "           (np.sum(ben_Tempeffect*OM_v[0:Nx]*det_coupling_v_multiplier)+ \n",
    "            (np.sum(ben_Tempeffect*OM_v[0:Nx]*det_coupling_v_multiplier)))"
   ]
  },
  {
   "cell_type": "code",
   "execution_count": 431,
   "id": "e6367e67-3bfb-445b-90a9-1f9aecd7e305",
   "metadata": {},
   "outputs": [
    {
     "data": {
      "text/plain": [
       "126.37455248423963"
      ]
     },
     "execution_count": 431,
     "metadata": {},
     "output_type": "execute_result"
    }
   ],
   "source": [
    "det_coupling_u_multiplier = U[j, 0:Nx, i]*10**(x[0:Nx])*dx\n",
    "np.sum(det_coupling_u_multiplier)"
   ]
  },
  {
   "cell_type": "code",
   "execution_count": 403,
   "id": "51452161-8f68-41a1-8377-eee02b6aca53",
   "metadata": {},
   "outputs": [
    {
     "name": "stderr",
     "output_type": "stream",
     "text": [
      "/jobfs/123583570.gadi-pbs/ipykernel_1709340/195254654.py:11: RuntimeWarning: invalid value encountered in divide\n",
      "  prop_b = (prop_bu+prop_bv)/sum(prop_bu+prop_bv)\n"
     ]
    },
    {
     "ename": "KeyboardInterrupt",
     "evalue": "",
     "output_type": "error",
     "traceback": [
      "\u001b[0;31m---------------------------------------------------------------------------\u001b[0m",
      "\u001b[0;31mKeyboardInterrupt\u001b[0m                         Traceback (most recent call last)",
      "Cell \u001b[0;32mIn[403], line 61\u001b[0m\n\u001b[1;32m     58\u001b[0m Z_v[j, :, i] \u001b[38;5;241m=\u001b[39m PM_v[j, :, i] \u001b[38;5;241m+\u001b[39m ben_tempeffect \u001b[38;5;241m*\u001b[39m OM_v \u001b[38;5;241m+\u001b[39m SM_v \u001b[38;5;241m+\u001b[39m Fvec_v[j, :, i]\n\u001b[1;32m     60\u001b[0m eaten_by_pred \u001b[38;5;241m=\u001b[39m \u001b[38;5;241m10\u001b[39m\u001b[38;5;241m*\u001b[39m\u001b[38;5;241m*\u001b[39mx\u001b[38;5;241m*\u001b[39mf_pel\u001b[38;5;241m*\u001b[39mU[j, :, i]\u001b[38;5;241m+\u001b[39m\u001b[38;5;241m10\u001b[39m\u001b[38;5;241m*\u001b[39m\u001b[38;5;241m*\u001b[39mx\u001b[38;5;241m*\u001b[39mf_ben\u001b[38;5;241m*\u001b[39mU[j, :, i]\n\u001b[0;32m---> 61\u001b[0m output_w \u001b[38;5;241m=\u001b[39m \u001b[43mnp\u001b[49m\u001b[38;5;241;43m.\u001b[39;49m\u001b[43msum\u001b[49m\u001b[43m(\u001b[49m\u001b[38;5;241;43m10\u001b[39;49m\u001b[38;5;241;43m*\u001b[39;49m\u001b[38;5;241;43m*\u001b[39;49m\u001b[43mx\u001b[49m\u001b[38;5;241;43m*\u001b[39;49m\u001b[43mf_det\u001b[49m\u001b[38;5;241;43m*\u001b[39;49m\u001b[43mV\u001b[49m\u001b[43m[\u001b[49m\u001b[43mj\u001b[49m\u001b[43m,\u001b[49m\u001b[43m \u001b[49m\u001b[43m:\u001b[49m\u001b[43m,\u001b[49m\u001b[43m \u001b[49m\u001b[43mi\u001b[49m\u001b[43m]\u001b[49m\u001b[38;5;241;43m*\u001b[39;49m\u001b[43mdx\u001b[49m\u001b[43m)\u001b[49m\n",
      "File \u001b[0;32m<__array_function__ internals>:177\u001b[0m, in \u001b[0;36msum\u001b[0;34m(*args, **kwargs)\u001b[0m\n",
      "\u001b[0;31mKeyboardInterrupt\u001b[0m: "
     ]
    }
   ],
   "source": [
    "for i in range(Neq):\n",
    "    x_u = 10**np.array(x)[ind_fvecu]*dx\n",
    "    x_v = 10**np.array(x)[ind_fvecv]*dx\n",
    "    \n",
    "    # time\n",
    "    for i in range(Neq-1):\n",
    "        # get proportion of total fishable biomass for each grid cell\n",
    "        # output rates of fisheries catches per yr at size\n",
    "        prop_bu = np.sum((U[:, ind_fvecu, i]*x_u), axis = 1)\n",
    "        prop_bv = np.sum((V[:, ind_fvecv, i]*x_v), axis = 1)\n",
    "        prop_b = (prop_bu+prop_bv)/sum(prop_bu+prop_bv)\n",
    "        # redistribute total effort across gridcells according to proportion of\n",
    "        # biomass in that grid cell\n",
    "        effort[:, i+1] = gravitymodel(effort[:, i+1], prop_b, depth = depth, n_iter = 1)\n",
    "\n",
    "        for j in np.arange(Ngrid):\n",
    "            if temp_effect:\n",
    "                pel_tempeffect = np.exp(c1 - E / (Boltzmann * (sst[j, i] + 273)))\n",
    "                ben_tempeffect = np.exp(c1 - E / (Boltzmann * (sft[j, i] + 273)))\n",
    "            else:\n",
    "                pel_tempeffect = 1\n",
    "                ben_tempeffect = 1\n",
    "\n",
    "            f_pel_term = (A_u*10**(x*alpha_u)*pref_pel[j])*((U[j, :, i]*dx)@gphi)\n",
    "            f_pel = pel_tempeffect*(f_pel_term/(1+handling*f_pel_term))\n",
    "\n",
    "            f_ben_term = (A_u*10**(x*alpha_u)*pref_ben[j])*((V[j, :, i]*dx)@gphi)\n",
    "            f_ben = pel_tempeffect*(f_ben_term/(1+handling*f_ben_term))\n",
    "\n",
    "            f_det_term = ((1/10**x)*A_v*10**(x*alpha_v)*W[j, i])\n",
    "            f_det = ben_tempeffect*f_det_term/(1+handling*f_det_term)\n",
    "            del f_ben_term, f_det_term\n",
    "\n",
    "            GG_u[j, :, i] = (1-def_high)*K_u*f_pel+(1-def_low)*K_v*f_ben\n",
    "\n",
    "            if repro_on == 1:\n",
    "                R_u[j, :, i] = (1-def_high)*(1-(K_u+AM_u))*f_pel+(1-def_high)*(1-(K_v+AM_v))*f_ben\n",
    "                R_v[j, :, i] = (1-def_low)*(1-(K_d+AM_v))*f_det\n",
    "\n",
    "            sat_pel = [fp/fpt if fp > 0 else 0 for fp, fpt in zip(f_pel, f_pel_term)]\n",
    "\n",
    "            PM_u[j, :, i] = (pref_pel[j]*A_u*np.array(expax))*((U[j, :, i]*sat_pel*dx)@mphi)\n",
    "\n",
    "            del f_pel_term\n",
    "\n",
    "            Z_u[j, :, i] = np.sum(PM_u[j, :, i]+pel_tempeffect*OM_u+SM_u+Fvec_u[j, :, i])\n",
    "            \n",
    "            GG_v[j, :, i] = (1-def_low)*K_d*f_det\n",
    "\n",
    "            sat_ben_divisor = (A_u*10**(x*alpha_v)*pref_ben[j])*((V[j, :, i]*dx)@gphi)\n",
    "            sat_ben = [fb/sbd if fb > 0 else 0 for fb, sbd in zip(f_ben, sat_ben_divisor)]\n",
    "            del sat_ben_divisor\n",
    "\n",
    "            PM_v[j, :, i] = np.where(np.array(sat_ben) > 0, \n",
    "                                     (pref_ben[j]*A_u*np.array(expax))*((U[j,:,i]*sat_ben*dx)@mphi), \n",
    "                                     0)\n",
    "\n",
    "            Z_v[j, :, i] = PM_v[j, :, i] + ben_tempeffect * OM_v + SM_v + Fvec_v[j, :, i]\n",
    "            \n",
    "            eaten_by_pred = 10**x*f_pel*U[j, :, i]+10**x*f_ben*U[j, :, i]\n",
    "            \n",
    "            output_w = np.sum(10**x*f_det*V[j, :, i]*dx)\n",
    "            \n",
    "            def_by_pred = def_high*f_pel*10**x*U[j, :, i]+def_low*f_ben*10**x*U[j, :, i]\n",
    "            \n",
    "            if ERSEM.det.input == False:\n",
    "                det_coupling_v_multiplier = V[j, 0:Nx, i]*10**(x[0:Nx])*dx\n",
    "                if det.coupling == 1.0:\n",
    "                    det_coupling_u_multiplier = U[j, 0:Nx, i]*10**(x[0:Nx])*dx\n",
    "                    \n"
   ]
  }
 ],
 "metadata": {
  "kernelspec": {
   "display_name": "fishmip + conda/analysis3",
   "language": "python",
   "name": "fishmip"
  },
  "language_info": {
   "codemirror_mode": {
    "name": "ipython",
    "version": 3
   },
   "file_extension": ".py",
   "mimetype": "text/x-python",
   "name": "python",
   "nbconvert_exporter": "python",
   "pygments_lexer": "ipython3",
   "version": "3.10.13"
  }
 },
 "nbformat": 4,
 "nbformat_minor": 5
}
